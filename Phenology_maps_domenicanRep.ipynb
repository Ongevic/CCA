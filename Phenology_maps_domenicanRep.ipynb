{
  "cells": [
    {
      "cell_type": "markdown",
      "metadata": {
        "id": "view-in-github",
        "colab_type": "text"
      },
      "source": [
        "<a href=\"https://colab.research.google.com/github/Ongevic/CCA/blob/main/Phenology_maps_domenicanRep.ipynb\" target=\"_parent\"><img src=\"https://colab.research.google.com/assets/colab-badge.svg\" alt=\"Open In Colab\"/></a>"
      ]
    },
    {
      "cell_type": "code",
      "execution_count": 3,
      "metadata": {
        "colab": {
          "base_uri": "https://localhost:8080/",
          "height": 17
        },
        "id": "fB1r6EMwZcDh",
        "outputId": "8a48a824-81d3-4c6d-d66e-833914498074"
      },
      "outputs": [
        {
          "output_type": "display_data",
          "data": {
            "text/plain": [
              "<IPython.core.display.HTML object>"
            ],
            "text/html": [
              "\n",
              "            <style>\n",
              "                .geemap-dark {\n",
              "                    --jp-widgets-color: white;\n",
              "                    --jp-widgets-label-color: white;\n",
              "                    --jp-ui-font-color1: white;\n",
              "                    --jp-layout-color2: #454545;\n",
              "                    background-color: #383838;\n",
              "                }\n",
              "\n",
              "                .geemap-dark .jupyter-button {\n",
              "                    --jp-layout-color3: #383838;\n",
              "                }\n",
              "\n",
              "                .geemap-colab {\n",
              "                    background-color: var(--colab-primary-surface-color, white);\n",
              "                }\n",
              "\n",
              "                .geemap-colab .jupyter-button {\n",
              "                    --jp-layout-color3: var(--colab-primary-surface-color, white);\n",
              "                }\n",
              "            </style>\n",
              "            "
            ]
          },
          "metadata": {}
        }
      ],
      "source": [
        "import ee\n",
        "import geemap\n",
        "ee.Authenticate()\n",
        "# Replace 'servir-sco-assets' with your Earth Engine project ID\n",
        "ee.Initialize(project='ee-chichistansa99')"
      ]
    },
    {
      "cell_type": "code",
      "execution_count": 4,
      "metadata": {
        "colab": {
          "base_uri": "https://localhost:8080/",
          "height": 17
        },
        "id": "VQsl7xUum38X",
        "outputId": "61ad7bb5-9bcb-44a1-bda8-cd9b91d82813"
      },
      "outputs": [
        {
          "output_type": "display_data",
          "data": {
            "text/plain": [
              "<IPython.core.display.HTML object>"
            ],
            "text/html": [
              "\n",
              "            <style>\n",
              "                .geemap-dark {\n",
              "                    --jp-widgets-color: white;\n",
              "                    --jp-widgets-label-color: white;\n",
              "                    --jp-ui-font-color1: white;\n",
              "                    --jp-layout-color2: #454545;\n",
              "                    background-color: #383838;\n",
              "                }\n",
              "\n",
              "                .geemap-dark .jupyter-button {\n",
              "                    --jp-layout-color3: #383838;\n",
              "                }\n",
              "\n",
              "                .geemap-colab {\n",
              "                    background-color: var(--colab-primary-surface-color, white);\n",
              "                }\n",
              "\n",
              "                .geemap-colab .jupyter-button {\n",
              "                    --jp-layout-color3: var(--colab-primary-surface-color, white);\n",
              "                }\n",
              "            </style>\n",
              "            "
            ]
          },
          "metadata": {}
        }
      ],
      "source": [
        "import pandas as pd\n",
        "from matplotlib import pyplot as plt\n",
        "import matplotlib as mpl\n",
        "import seaborn as sns\n",
        "import numpy as np\n",
        "from datetime import datetime, timedelta"
      ]
    },
    {
      "cell_type": "code",
      "execution_count": 5,
      "metadata": {
        "colab": {
          "base_uri": "https://localhost:8080/",
          "height": 17
        },
        "id": "kkunYppEZkPZ",
        "outputId": "49617a82-6044-4c8a-ac1d-e1d7474c397b"
      },
      "outputs": [
        {
          "output_type": "display_data",
          "data": {
            "text/plain": [
              "<IPython.core.display.HTML object>"
            ],
            "text/html": [
              "\n",
              "            <style>\n",
              "                .geemap-dark {\n",
              "                    --jp-widgets-color: white;\n",
              "                    --jp-widgets-label-color: white;\n",
              "                    --jp-ui-font-color1: white;\n",
              "                    --jp-layout-color2: #454545;\n",
              "                    background-color: #383838;\n",
              "                }\n",
              "\n",
              "                .geemap-dark .jupyter-button {\n",
              "                    --jp-layout-color3: #383838;\n",
              "                }\n",
              "\n",
              "                .geemap-colab {\n",
              "                    background-color: var(--colab-primary-surface-color, white);\n",
              "                }\n",
              "\n",
              "                .geemap-colab .jupyter-button {\n",
              "                    --jp-layout-color3: var(--colab-primary-surface-color, white);\n",
              "                }\n",
              "            </style>\n",
              "            "
            ]
          },
          "metadata": {}
        }
      ],
      "source": [
        "# Just testing that geemap and ipyleaflet is working\n",
        "boundary = (\n",
        "    ee.FeatureCollection(\"FAO/GAUL/2015/level0\")\n",
        "    .filter(ee.Filter.eq(\"ADM0_NAME\", \"Zimbabwe\"))\n",
        ")\n",
        "envelope = boundary.geometry().bounds()\n",
        "# m = geemap.Map(height=400)\n",
        "# m.add_ee_layer(boundary)\n",
        "# display(m)"
      ]
    },
    {
      "cell_type": "code",
      "execution_count": 6,
      "metadata": {
        "colab": {
          "base_uri": "https://localhost:8080/",
          "height": 17
        },
        "id": "p2Nbu7UGtn3_",
        "outputId": "3cf4ca56-696d-4783-f405-2b9587a1e8bc"
      },
      "outputs": [
        {
          "output_type": "display_data",
          "data": {
            "text/plain": [
              "<IPython.core.display.HTML object>"
            ],
            "text/html": [
              "\n",
              "            <style>\n",
              "                .geemap-dark {\n",
              "                    --jp-widgets-color: white;\n",
              "                    --jp-widgets-label-color: white;\n",
              "                    --jp-ui-font-color1: white;\n",
              "                    --jp-layout-color2: #454545;\n",
              "                    background-color: #383838;\n",
              "                }\n",
              "\n",
              "                .geemap-dark .jupyter-button {\n",
              "                    --jp-layout-color3: #383838;\n",
              "                }\n",
              "\n",
              "                .geemap-colab {\n",
              "                    background-color: var(--colab-primary-surface-color, white);\n",
              "                }\n",
              "\n",
              "                .geemap-colab .jupyter-button {\n",
              "                    --jp-layout-color3: var(--colab-primary-surface-color, white);\n",
              "                }\n",
              "            </style>\n",
              "            "
            ]
          },
          "metadata": {}
        }
      ],
      "source": [
        "def get_year_collection(year):\n",
        "  year = ee.Number(year)\n",
        "  start_date = year.format().cat('-06-01')\n",
        "  end_date = year.add(1).format().cat('-10-31')\n",
        "  dataset = (\n",
        "      ee.ImageCollection('MODIS/061/MOD13Q1')\n",
        "      .filterBounds(envelope)\n",
        "      .filter(ee.Filter.date(start_date, end_date)) # We know that in zimbabwe the SOS is arround November\n",
        "      .select(\"NDVI\")\n",
        "      .map(\n",
        "        lambda image: image.addBands( # Adds a band with the number of day since the start of that year\n",
        "        ee.Image.constant(\n",
        "          ee.Date(image.get(\"system:time_start\"))\n",
        "          .getRelative('day', 'year').add(9) # Add 9 since the image is based in a 16 day composite\n",
        "          .add(\n",
        "            ee.Date(image.get(\"system:time_start\")).get(\"year\")\n",
        "            .subtract(year).multiply(365)\n",
        "          )\n",
        "        ).rename([\"t\"]).float()\n",
        "      )\n",
        "    )\n",
        "  )\n",
        "  return dataset\n",
        "\n",
        "year_collection = get_year_collection(2020)"
      ]
    },
    {
      "cell_type": "markdown",
      "metadata": {
        "id": "G7H8iAW96seN"
      },
      "source": [
        "## Harmonic model\n",
        "\n",
        "$p_t = \\beta_0 + A_0cos(2\\pi\\omega_0 t - \\phi_0) + A_1cos(2\\pi\\omega_1 t - \\phi_1) e_t$\n",
        "\n",
        "$p_t = \\beta_0 + \\beta_1cos(2\\pi\\omega_0 t) + \\beta_2sin(2\\pi\\omega_0 t) + \\beta_3cos(2\\pi\\omega_1 t) + \\beta_4sin(2\\pi\\omega_1 t) + e_t$\n",
        "\n",
        "$\\omega_0=1; \\omega_1=0.5$"
      ]
    },
    {
      "cell_type": "code",
      "execution_count": 7,
      "metadata": {
        "colab": {
          "base_uri": "https://localhost:8080/",
          "height": 17
        },
        "id": "Oeaw5hLRhaQC",
        "outputId": "feb2a3db-f595-4aaf-d0e5-099ca2ceae53"
      },
      "outputs": [
        {
          "output_type": "display_data",
          "data": {
            "text/plain": [
              "<IPython.core.display.HTML object>"
            ],
            "text/html": [
              "\n",
              "            <style>\n",
              "                .geemap-dark {\n",
              "                    --jp-widgets-color: white;\n",
              "                    --jp-widgets-label-color: white;\n",
              "                    --jp-ui-font-color1: white;\n",
              "                    --jp-layout-color2: #454545;\n",
              "                    background-color: #383838;\n",
              "                }\n",
              "\n",
              "                .geemap-dark .jupyter-button {\n",
              "                    --jp-layout-color3: #383838;\n",
              "                }\n",
              "\n",
              "                .geemap-colab {\n",
              "                    background-color: var(--colab-primary-surface-color, white);\n",
              "                }\n",
              "\n",
              "                .geemap-colab .jupyter-button {\n",
              "                    --jp-layout-color3: var(--colab-primary-surface-color, white);\n",
              "                }\n",
              "            </style>\n",
              "            "
            ]
          },
          "metadata": {}
        }
      ],
      "source": [
        "def add_harmonic_variables(image):\n",
        "  image = image.addBands(ee.Image.constant(1))\n",
        "  timeRadians = image.select('t').divide(365).multiply(2 * np.pi)\n",
        "  image = image.addBands(timeRadians.cos().rename('cos1'))\n",
        "  image = image.addBands(timeRadians.sin().rename('sin1'))\n",
        "  image = image.addBands(timeRadians.divide(2).cos().rename('cos2'))\n",
        "  image = image.addBands(timeRadians.divide(2).sin().rename('sin2'))\n",
        "  return image\n",
        "\n",
        "def fit_harmonic_model(collection):\n",
        "  harmonic_independents = ee.List(['constant', 'cos1', 'sin1', 'cos2', 'sin2']);\n",
        "  dependent = ee.String('NDVI')\n",
        "  harmonic = collection.map(add_harmonic_variables)\n",
        "\n",
        "  harmonic_fit = (\n",
        "    harmonic\n",
        "    .select(harmonic_independents.add(dependent))\n",
        "    .reduce(\n",
        "      ee.Reducer.linearRegression(**{ # The output of this reducer is a 3x1 array image.\n",
        "        \"numX\": harmonic_independents.length(),\n",
        "        \"numY\": 1\n",
        "      })\n",
        "    )\n",
        "  )\n",
        "  # Turn the array image into a multi-band image of coefficients.\n",
        "  harmonic_coefficients = (\n",
        "    harmonic_fit.select('coefficients')\n",
        "    .arrayProject([0])\n",
        "    .arrayFlatten([harmonic_independents])\n",
        "  )\n",
        "  # Compute fitted values.\n",
        "  # fittedHarmonic = harmonicInds.map(lambda img:\n",
        "  fitted_harmonic = harmonic.map(lambda image:\n",
        "    image.addBands(\n",
        "      image.select(harmonic_independents)\n",
        "      .multiply(harmonic_coefficients)\n",
        "      .reduce('sum')\n",
        "      .rename('fitted')\n",
        "    )\n",
        "  )\n",
        "  return fitted_harmonic"
      ]
    },
    {
      "cell_type": "code",
      "execution_count": 8,
      "metadata": {
        "colab": {
          "base_uri": "https://localhost:8080/",
          "height": 17
        },
        "id": "09phjzAZ6Dgf",
        "outputId": "bf6520a5-afe3-4d40-ab62-b80bccea328f"
      },
      "outputs": [
        {
          "output_type": "display_data",
          "data": {
            "text/plain": [
              "<IPython.core.display.HTML object>"
            ],
            "text/html": [
              "\n",
              "            <style>\n",
              "                .geemap-dark {\n",
              "                    --jp-widgets-color: white;\n",
              "                    --jp-widgets-label-color: white;\n",
              "                    --jp-ui-font-color1: white;\n",
              "                    --jp-layout-color2: #454545;\n",
              "                    background-color: #383838;\n",
              "                }\n",
              "\n",
              "                .geemap-dark .jupyter-button {\n",
              "                    --jp-layout-color3: #383838;\n",
              "                }\n",
              "\n",
              "                .geemap-colab {\n",
              "                    background-color: var(--colab-primary-surface-color, white);\n",
              "                }\n",
              "\n",
              "                .geemap-colab .jupyter-button {\n",
              "                    --jp-layout-color3: var(--colab-primary-surface-color, white);\n",
              "                }\n",
              "            </style>\n",
              "            "
            ]
          },
          "metadata": {}
        }
      ],
      "source": [
        "fitted_harmonic = fit_harmonic_model(year_collection)"
      ]
    },
    {
      "cell_type": "code",
      "execution_count": 9,
      "metadata": {
        "colab": {
          "base_uri": "https://localhost:8080/",
          "height": 17
        },
        "id": "uEg4xenzmmlA",
        "outputId": "5a07588c-0fa5-48e1-f98a-bc6a07c1d7d1"
      },
      "outputs": [
        {
          "output_type": "display_data",
          "data": {
            "text/plain": [
              "<IPython.core.display.HTML object>"
            ],
            "text/html": [
              "\n",
              "            <style>\n",
              "                .geemap-dark {\n",
              "                    --jp-widgets-color: white;\n",
              "                    --jp-widgets-label-color: white;\n",
              "                    --jp-ui-font-color1: white;\n",
              "                    --jp-layout-color2: #454545;\n",
              "                    background-color: #383838;\n",
              "                }\n",
              "\n",
              "                .geemap-dark .jupyter-button {\n",
              "                    --jp-layout-color3: #383838;\n",
              "                }\n",
              "\n",
              "                .geemap-colab {\n",
              "                    background-color: var(--colab-primary-surface-color, white);\n",
              "                }\n",
              "\n",
              "                .geemap-colab .jupyter-button {\n",
              "                    --jp-layout-color3: var(--colab-primary-surface-color, white);\n",
              "                }\n",
              "            </style>\n",
              "            "
            ]
          },
          "metadata": {}
        }
      ],
      "source": [
        "df_fitted = pd.DataFrame.from_records([\n",
        "    feature[\"properties\"] for feature in\n",
        "    fitted_harmonic.map(\n",
        "        lambda image: image.sample(ee.Geometry.Point(32.37, -20.18)).first()\n",
        "    ).getInfo()[\"features\"]\n",
        "])\n",
        "df_fitted.index = [datetime(2000, 1, 1) + timedelta(i) for i in df_fitted['t']]\n",
        "df_fitted = df_fitted.sort_index()"
      ]
    },
    {
      "cell_type": "code",
      "execution_count": 10,
      "metadata": {
        "colab": {
          "base_uri": "https://localhost:8080/",
          "height": 435
        },
        "id": "jdY-nv9Ahze5",
        "outputId": "20ce068c-af30-4a32-ef13-5258ddf1956a"
      },
      "outputs": [
        {
          "output_type": "display_data",
          "data": {
            "text/plain": [
              "<IPython.core.display.HTML object>"
            ],
            "text/html": [
              "\n",
              "            <style>\n",
              "                .geemap-dark {\n",
              "                    --jp-widgets-color: white;\n",
              "                    --jp-widgets-label-color: white;\n",
              "                    --jp-ui-font-color1: white;\n",
              "                    --jp-layout-color2: #454545;\n",
              "                    background-color: #383838;\n",
              "                }\n",
              "\n",
              "                .geemap-dark .jupyter-button {\n",
              "                    --jp-layout-color3: #383838;\n",
              "                }\n",
              "\n",
              "                .geemap-colab {\n",
              "                    background-color: var(--colab-primary-surface-color, white);\n",
              "                }\n",
              "\n",
              "                .geemap-colab .jupyter-button {\n",
              "                    --jp-layout-color3: var(--colab-primary-surface-color, white);\n",
              "                }\n",
              "            </style>\n",
              "            "
            ]
          },
          "metadata": {}
        },
        {
          "output_type": "execute_result",
          "data": {
            "text/plain": [
              "<matplotlib.legend.Legend at 0x787074ae3f80>"
            ]
          },
          "metadata": {},
          "execution_count": 10
        },
        {
          "output_type": "display_data",
          "data": {
            "text/plain": [
              "<Figure size 640x480 with 1 Axes>"
            ],
            "image/png": "[encoded data removed]"
          },
          "metadata": {}
        }
      ],
      "source": [
        "ax = df_fitted.NDVI.plot(label=\"NDVI\")\n",
        "df_fitted.fitted.plot(ax=ax, label=\"fitted\")\n",
        "ax.legend()"
      ]
    },
    {
      "cell_type": "markdown",
      "metadata": {
        "id": "x51qz7Esypn5"
      },
      "source": [
        "## Start of the season following FAO WaPOR metodology\n",
        "\n",
        "[VanHoolst et. al. (2016)](https://www.researchgate.net/publication/290315408_FAO's_AVHRR-based_Agricultural_Stress_Index_System_ASIS_for_global_drought_monitoring) define the start of the season (SOS) as the moment when the rising vegetation index (VI) curve meets the threshold $VI_{sos}$, and the end of season (EOS) as the date when the descending curve meets $VI_{eos}$, see figure:\n",
        "\n",
        "$VI_{sos} = (VI)_{min,sos} + T_{sos} ((VI)_{max}-(VI)_{min,sos})$\n",
        "\n",
        "$VI_{eos} = (VI)_{min,eos} + T_{eos}\\times((VI)_{max}-(VI)_{min,eos})$\n",
        "\n",
        "![Growing season description](https://www.researchgate.net/profile/Roel-Van-Hoolst/publication/290315408/figure/fig9/AS:325357564645389@1454582696683/De-fi-nition-of-the-start-and-end-of-the-growing-season-SOS1-EOS1-from-the-NDVI-pro-fi.png)\n",
        "\n",
        "where $VI_{max}$ is the $VI$ at the maximum of the cycle and $VI_{min,sos}$ and $VI_{min,eos}$ the values of the surrounding minima. SOS is searched leftwards from $VI_{max}$ to $VI_{min,sos}$, EOS rightwards from $VI_{max}$ to $VI_{min,eos}$. $T_{sos}$ and $T_{eos}$ are modifiable and were fixed to 0.25 and 0.75 respectively."
      ]
    },
    {
      "cell_type": "code",
      "execution_count": 11,
      "metadata": {
        "colab": {
          "base_uri": "https://localhost:8080/",
          "height": 17
        },
        "id": "ViPLMmzCjTWD",
        "outputId": "174c2c04-a555-4630-beb5-dd8731e01bf8"
      },
      "outputs": [
        {
          "output_type": "display_data",
          "data": {
            "text/plain": [
              "<IPython.core.display.HTML object>"
            ],
            "text/html": [
              "\n",
              "            <style>\n",
              "                .geemap-dark {\n",
              "                    --jp-widgets-color: white;\n",
              "                    --jp-widgets-label-color: white;\n",
              "                    --jp-ui-font-color1: white;\n",
              "                    --jp-layout-color2: #454545;\n",
              "                    background-color: #383838;\n",
              "                }\n",
              "\n",
              "                .geemap-dark .jupyter-button {\n",
              "                    --jp-layout-color3: #383838;\n",
              "                }\n",
              "\n",
              "                .geemap-colab {\n",
              "                    background-color: var(--colab-primary-surface-color, white);\n",
              "                }\n",
              "\n",
              "                .geemap-colab .jupyter-button {\n",
              "                    --jp-layout-color3: var(--colab-primary-surface-color, white);\n",
              "                }\n",
              "            </style>\n",
              "            "
            ]
          },
          "metadata": {}
        }
      ],
      "source": [
        "def get_min_max_time_image(fitted_harmonic):\n",
        "  axes = {\"image\": 0, \"band\": 1}\n",
        "\n",
        "  # First find the max NDVI\n",
        "  array = fitted_harmonic.select([\"fitted\", 't']).toArray()\n",
        "  sort = array.arraySlice(axes[\"band\"], 0, 1) # Select fitted NDVI band\n",
        "  sorted = array.arraySort(sort) # Sort by fitted NDVI values\n",
        "  length = sorted.arrayLength(axes['image'])\n",
        "  values_max = sorted.arraySlice(axes['image'], length.subtract(1), length) # Selecting last image (max fitted)\n",
        "  max_image = values_max.arrayProject([axes[\"band\"]]).arrayFlatten([['fitted', 't']])\n",
        "  time_max = max_image.select('t') # Image with the time of max NDVI\n",
        "\n",
        "  # Mask out all values after the max NDVI\n",
        "  fitted_harmonic_before_max = fitted_harmonic.map(\n",
        "      lambda image: image.updateMask(image.select(\"t\").lt(time_max))\n",
        "  )\n",
        "  array = fitted_harmonic_before_max.select([\"fitted\", 't']).toArray()\n",
        "  sort = array.arraySlice(axes[\"band\"], 0, 1) # Select fitted NDVI band\n",
        "  sorted = array.arraySort(sort) # Sort by fitted NDVI values\n",
        "  values_min = sorted.arraySlice(axes[\"image\"], 0, 1) # Selecting first image (min fitted)\n",
        "  minsos_image = values_min.arrayProject([axes[\"band\"]]).arrayFlatten([['fitted', 't']])\n",
        "\n",
        "  # Mask out all values after the max NDVI\n",
        "  fitted_harmonic_after_max = fitted_harmonic.map(\n",
        "      lambda image: image.updateMask(image.select(\"t\").gt(time_max))\n",
        "  )\n",
        "  array = fitted_harmonic_after_max.select([\"fitted\", 't']).toArray()\n",
        "  sort = array.arraySlice(axes[\"band\"], 0, 1) # Select fitted NDVI band\n",
        "  sorted = array.arraySort(sort) # Sort by fitted NDVI values\n",
        "  values_min = sorted.arraySlice(axes[\"image\"], 0, 1) # Selecting first image (min fitted)\n",
        "  mineos_image = values_min.arrayProject([axes[\"band\"]]).arrayFlatten([['fitted', 't']])\n",
        "\n",
        "  image = max_image.addBands(minsos_image).addBands(mineos_image).rename(\n",
        "      [\"max_val\", \"max_time\", \"minsos_val\", \"minsos_time\", \"mineos_val\", \"mineos_time\"]\n",
        "  )\n",
        "  return image\n",
        "\n",
        "max_min_image = get_min_max_time_image(fitted_harmonic)"
      ]
    },
    {
      "cell_type": "code",
      "execution_count": 12,
      "metadata": {
        "colab": {
          "base_uri": "https://localhost:8080/",
          "height": 124
        },
        "id": "FcxnSdxYOulJ",
        "outputId": "c7313769-4962-4fdc-f364-d2f1399cc09c"
      },
      "outputs": [
        {
          "output_type": "display_data",
          "data": {
            "text/plain": [
              "<IPython.core.display.HTML object>"
            ],
            "text/html": [
              "\n",
              "            <style>\n",
              "                .geemap-dark {\n",
              "                    --jp-widgets-color: white;\n",
              "                    --jp-widgets-label-color: white;\n",
              "                    --jp-ui-font-color1: white;\n",
              "                    --jp-layout-color2: #454545;\n",
              "                    background-color: #383838;\n",
              "                }\n",
              "\n",
              "                .geemap-dark .jupyter-button {\n",
              "                    --jp-layout-color3: #383838;\n",
              "                }\n",
              "\n",
              "                .geemap-colab {\n",
              "                    background-color: var(--colab-primary-surface-color, white);\n",
              "                }\n",
              "\n",
              "                .geemap-colab .jupyter-button {\n",
              "                    --jp-layout-color3: var(--colab-primary-surface-color, white);\n",
              "                }\n",
              "            </style>\n",
              "            "
            ]
          },
          "metadata": {}
        },
        {
          "output_type": "execute_result",
          "data": {
            "text/plain": [
              "({'max_time': 422,\n",
              "  'max_val': 5183.238043908106,\n",
              "  'mineos_time': 598,\n",
              "  'mineos_val': 2423.8816390477295,\n",
              "  'minsos_time': 233,\n",
              "  'minsos_val': 1904.547614648475},)"
            ]
          },
          "metadata": {},
          "execution_count": 12
        }
      ],
      "source": [
        "max_min_image.reduceRegion(\n",
        "    ee.Reducer.min(),\n",
        "    geometry=boundary.geometry()\n",
        ").getInfo(),"
      ]
    },
    {
      "cell_type": "code",
      "execution_count": 13,
      "metadata": {
        "colab": {
          "base_uri": "https://localhost:8080/",
          "height": 124
        },
        "id": "mW6r4Sn4PHra",
        "outputId": "1de3ff41-321f-4b48-a843-ffce7120f4d1"
      },
      "outputs": [
        {
          "output_type": "display_data",
          "data": {
            "text/plain": [
              "<IPython.core.display.HTML object>"
            ],
            "text/html": [
              "\n",
              "            <style>\n",
              "                .geemap-dark {\n",
              "                    --jp-widgets-color: white;\n",
              "                    --jp-widgets-label-color: white;\n",
              "                    --jp-ui-font-color1: white;\n",
              "                    --jp-layout-color2: #454545;\n",
              "                    background-color: #383838;\n",
              "                }\n",
              "\n",
              "                .geemap-dark .jupyter-button {\n",
              "                    --jp-layout-color3: #383838;\n",
              "                }\n",
              "\n",
              "                .geemap-colab {\n",
              "                    background-color: var(--colab-primary-surface-color, white);\n",
              "                }\n",
              "\n",
              "                .geemap-colab .jupyter-button {\n",
              "                    --jp-layout-color3: var(--colab-primary-surface-color, white);\n",
              "                }\n",
              "            </style>\n",
              "            "
            ]
          },
          "metadata": {}
        },
        {
          "output_type": "execute_result",
          "data": {
            "text/plain": [
              "{'max_time': 454,\n",
              " 'max_val': 7218.635150878522,\n",
              " 'mineos_time': 630,\n",
              " 'mineos_val': 4599.438356245922,\n",
              " 'minsos_time': 265,\n",
              " 'minsos_val': 4252.122647090947}"
            ]
          },
          "metadata": {},
          "execution_count": 13
        }
      ],
      "source": [
        "max_min_image.reduceRegion(\n",
        "    ee.Reducer.max(),\n",
        "    geometry=boundary.geometry()\n",
        ").getInfo()"
      ]
    },
    {
      "cell_type": "code",
      "execution_count": 14,
      "metadata": {
        "colab": {
          "base_uri": "https://localhost:8080/",
          "height": 17
        },
        "id": "dQMPHY11yoI1",
        "outputId": "e0fc0d44-d58a-46c8-816a-baa2a0a92042"
      },
      "outputs": [
        {
          "output_type": "display_data",
          "data": {
            "text/plain": [
              "<IPython.core.display.HTML object>"
            ],
            "text/html": [
              "\n",
              "            <style>\n",
              "                .geemap-dark {\n",
              "                    --jp-widgets-color: white;\n",
              "                    --jp-widgets-label-color: white;\n",
              "                    --jp-ui-font-color1: white;\n",
              "                    --jp-layout-color2: #454545;\n",
              "                    background-color: #383838;\n",
              "                }\n",
              "\n",
              "                .geemap-dark .jupyter-button {\n",
              "                    --jp-layout-color3: #383838;\n",
              "                }\n",
              "\n",
              "                .geemap-colab {\n",
              "                    background-color: var(--colab-primary-surface-color, white);\n",
              "                }\n",
              "\n",
              "                .geemap-colab .jupyter-button {\n",
              "                    --jp-layout-color3: var(--colab-primary-surface-color, white);\n",
              "                }\n",
              "            </style>\n",
              "            "
            ]
          },
          "metadata": {}
        }
      ],
      "source": [
        "def get_season_image(fitted_harmonic):\n",
        "  max_min_image = get_min_max_time_image(fitted_harmonic)\n",
        "  tmin_sos = max_min_image.select(\"minsos_time\")\n",
        "  vimin_sos = max_min_image.select(\"minsos_val\")\n",
        "  tmax = max_min_image.select(\"max_time\")\n",
        "  vimax = max_min_image.select(\"max_val\")\n",
        "  tmin_eos = max_min_image.select(\"mineos_time\")\n",
        "  vimin_eos = max_min_image.select(\"mineos_val\")\n",
        "\n",
        "  vi_sos = vimin_sos.add(\n",
        "      ee.Image(vimax.subtract(vimin_sos)).multiply(0.25)\n",
        "  )\n",
        "  vi_eos = vimin_eos.add(\n",
        "      ee.Image(vimax.subtract(vimin_sos)).multiply(0.75)\n",
        "  )\n",
        "\n",
        "  # Produce SOS image\n",
        "  vi_diff = fitted_harmonic.map(\n",
        "    lambda image:\n",
        "    image.addBands(\n",
        "      image.select(\"fitted\").subtract(vi_sos.select(0)).abs()\n",
        "      .rename([\"vi_diff\"])\n",
        "    ).updateMask(\n",
        "      image.select(\"t\").gt(tmin_sos)\n",
        "    ).updateMask(\n",
        "      image.select(\"t\").lt(tmax)\n",
        "    )\n",
        "  )\n",
        "  axes = {\"image\": 0, \"band\": 1}\n",
        "  array = vi_diff.select([\"vi_diff\", 't']).toArray()\n",
        "  sort = array.arraySlice(axes[\"band\"], 0, 1)\n",
        "  sorted = array.arraySort(sort)\n",
        "  vi_diff_min = sorted.arraySlice(axes[\"image\"], 0, 1)\n",
        "  sos_image = vi_diff_min.arrayProject([axes[\"band\"]]).arrayFlatten([['vi_diff', 'sos']])\n",
        "  sos_image = sos_image.select(\"sos\")\n",
        "\n",
        "  # Produce EOS image\n",
        "  vi_diff = fitted_harmonic.map(\n",
        "    lambda image:\n",
        "    image.addBands(\n",
        "      image.select(\"fitted\").subtract(vi_eos.select(0)).abs()\n",
        "      .rename([\"vi_diff\"])\n",
        "    ).updateMask(\n",
        "      image.select(\"t\").gt(tmax)\n",
        "    ).updateMask(\n",
        "      image.select(\"t\").lt(tmin_eos)\n",
        "    )\n",
        "  )\n",
        "  axes = {\"image\": 0, \"band\": 1}\n",
        "  array = vi_diff.select([\"vi_diff\", 't']).toArray()\n",
        "  sort = array.arraySlice(axes[\"band\"], 0, 1)\n",
        "  sorted = array.arraySort(sort)\n",
        "  vi_diff_min = sorted.arraySlice(axes[\"image\"], 0, 1)\n",
        "  eos_image = vi_diff_min.arrayProject([axes[\"band\"]]).arrayFlatten([['vi_diff', 'eos']])\n",
        "  eos_image = eos_image.select(\"eos\")\n",
        "\n",
        "  image = sos_image.addBands(eos_image)\n",
        "  image = image.addBands(eos_image.subtract(sos_image).rename([\"los\"]))\n",
        "  return image"
      ]
    },
    {
      "cell_type": "code",
      "execution_count": 15,
      "metadata": {
        "colab": {
          "base_uri": "https://localhost:8080/",
          "height": 17
        },
        "id": "tAA-34JoFFLD",
        "outputId": "ae6b29d9-8dc0-487e-b1d9-df4019b4920b"
      },
      "outputs": [
        {
          "output_type": "display_data",
          "data": {
            "text/plain": [
              "<IPython.core.display.HTML object>"
            ],
            "text/html": [
              "\n",
              "            <style>\n",
              "                .geemap-dark {\n",
              "                    --jp-widgets-color: white;\n",
              "                    --jp-widgets-label-color: white;\n",
              "                    --jp-ui-font-color1: white;\n",
              "                    --jp-layout-color2: #454545;\n",
              "                    background-color: #383838;\n",
              "                }\n",
              "\n",
              "                .geemap-dark .jupyter-button {\n",
              "                    --jp-layout-color3: #383838;\n",
              "                }\n",
              "\n",
              "                .geemap-colab {\n",
              "                    background-color: var(--colab-primary-surface-color, white);\n",
              "                }\n",
              "\n",
              "                .geemap-colab .jupyter-button {\n",
              "                    --jp-layout-color3: var(--colab-primary-surface-color, white);\n",
              "                }\n",
              "            </style>\n",
              "            "
            ]
          },
          "metadata": {}
        }
      ],
      "source": [
        "season = get_season_image(fitted_harmonic)"
      ]
    },
    {
      "cell_type": "code",
      "execution_count": 17,
      "metadata": {
        "colab": {
          "base_uri": "https://localhost:8080/",
          "height": 435
        },
        "id": "HSSZ9swEO4rT",
        "outputId": "ed186b06-21c4-4faa-adcf-a555f44d8646"
      },
      "outputs": [
        {
          "output_type": "display_data",
          "data": {
            "text/plain": [
              "<IPython.core.display.HTML object>"
            ],
            "text/html": [
              "\n",
              "            <style>\n",
              "                .geemap-dark {\n",
              "                    --jp-widgets-color: white;\n",
              "                    --jp-widgets-label-color: white;\n",
              "                    --jp-ui-font-color1: white;\n",
              "                    --jp-layout-color2: #454545;\n",
              "                    background-color: #383838;\n",
              "                }\n",
              "\n",
              "                .geemap-dark .jupyter-button {\n",
              "                    --jp-layout-color3: #383838;\n",
              "                }\n",
              "\n",
              "                .geemap-colab {\n",
              "                    background-color: var(--colab-primary-surface-color, white);\n",
              "                }\n",
              "\n",
              "                .geemap-colab .jupyter-button {\n",
              "                    --jp-layout-color3: var(--colab-primary-surface-color, white);\n",
              "                }\n",
              "            </style>\n",
              "            "
            ]
          },
          "metadata": {}
        },
        {
          "output_type": "execute_result",
          "data": {
            "text/plain": [
              "<matplotlib.legend.Legend at 0x78706ac3c260>"
            ]
          },
          "metadata": {},
          "execution_count": 17
        },
        {
          "output_type": "display_data",
          "data": {
            "text/plain": [
              "<Figure size 640x480 with 1 Axes>"
            ],
            "image/png": "[encoded data removed]"
          },
          "metadata": {}
        }
      ],
      "source": [
        "ax = df_fitted.NDVI.plot(label=\"NDVI\")\n",
        "df_fitted.fitted.plot(ax=ax, label=\"Fitted\")\n",
        "season_dict = season.sample(ee.Geometry.Point(32.37, -20.18)).getInfo()['features'][0][\"properties\"]\n",
        "sos_value = datetime(2000, 1, 1) + timedelta(season_dict[\"sos\"])\n",
        "ax.axvline(sos_value, color=\"red\", linestyle=\":\", label=\"SOS/EOS\")\n",
        "eos_value = datetime(2000, 1, 1) + timedelta(season_dict[\"eos\"])\n",
        "ax.axvline(eos_value, color=\"red\", linestyle=\":\")\n",
        "ax.legend()"
      ]
    },
    {
      "cell_type": "code",
      "execution_count": 18,
      "metadata": {
        "colab": {
          "base_uri": "https://localhost:8080/",
          "height": 17
        },
        "id": "3yiny5ouG0is",
        "outputId": "7d9adeca-32e2-4a3b-85b7-43f3e70252ad"
      },
      "outputs": [
        {
          "output_type": "display_data",
          "data": {
            "text/plain": [
              "<IPython.core.display.HTML object>"
            ],
            "text/html": [
              "\n",
              "            <style>\n",
              "                .geemap-dark {\n",
              "                    --jp-widgets-color: white;\n",
              "                    --jp-widgets-label-color: white;\n",
              "                    --jp-ui-font-color1: white;\n",
              "                    --jp-layout-color2: #454545;\n",
              "                    background-color: #383838;\n",
              "                }\n",
              "\n",
              "                .geemap-dark .jupyter-button {\n",
              "                    --jp-layout-color3: #383838;\n",
              "                }\n",
              "\n",
              "                .geemap-colab {\n",
              "                    background-color: var(--colab-primary-surface-color, white);\n",
              "                }\n",
              "\n",
              "                .geemap-colab .jupyter-button {\n",
              "                    --jp-layout-color3: var(--colab-primary-surface-color, white);\n",
              "                }\n",
              "            </style>\n",
              "            "
            ]
          },
          "metadata": {}
        }
      ],
      "source": [
        "def get_season_for_year(year):\n",
        "    collection = get_year_collection(year)\n",
        "    fitted_harmonic = fit_harmonic_model(collection)\n",
        "    sos_image = get_season_image(fitted_harmonic)\n",
        "    sos_image = sos_image.set(\"year\", year)\n",
        "    return sos_image\n",
        "\n",
        "season_collection = ee.ImageCollection(\n",
        "    ee.List(list(range(2011, 2024))).map(get_season_for_year)\n",
        ")"
      ]
    },
    {
      "cell_type": "markdown",
      "metadata": {
        "id": "91ac9a76"
      },
      "source": [
        "**Reasoning**:\n",
        "The subtask is to change the country boundary to the Dominican Republic. I need to modify the `boundary` variable definition in the existing code to filter for 'Dominican Republic' instead of 'Zimbabwe'. This is in cell `kkunYppEZkPZ`.\n",
        "\n"
      ]
    },
    {
      "cell_type": "code",
      "execution_count": 21,
      "metadata": {
        "colab": {
          "base_uri": "https://localhost:8080/",
          "height": 17
        },
        "id": "23390ba7",
        "outputId": "35b78e45-68ab-47bb-94a9-914ca54fdfb8"
      },
      "outputs": [
        {
          "output_type": "display_data",
          "data": {
            "text/plain": [
              "<IPython.core.display.HTML object>"
            ],
            "text/html": [
              "\n",
              "            <style>\n",
              "                .geemap-dark {\n",
              "                    --jp-widgets-color: white;\n",
              "                    --jp-widgets-label-color: white;\n",
              "                    --jp-ui-font-color1: white;\n",
              "                    --jp-layout-color2: #454545;\n",
              "                    background-color: #383838;\n",
              "                }\n",
              "\n",
              "                .geemap-dark .jupyter-button {\n",
              "                    --jp-layout-color3: #383838;\n",
              "                }\n",
              "\n",
              "                .geemap-colab {\n",
              "                    background-color: var(--colab-primary-surface-color, white);\n",
              "                }\n",
              "\n",
              "                .geemap-colab .jupyter-button {\n",
              "                    --jp-layout-color3: var(--colab-primary-surface-color, white);\n",
              "                }\n",
              "            </style>\n",
              "            "
            ]
          },
          "metadata": {}
        }
      ],
      "source": [
        "# Just testing that geemap and ipyleaflet is working\n",
        "boundary = (\n",
        "    ee.FeatureCollection(\"FAO/GAUL/2015/level0\")\n",
        "    .filter(ee.Filter.eq(\"ADM0_NAME\", \"Dominican Republic\"))\n",
        ")\n",
        "envelope = boundary.geometry().bounds()\n",
        "# m = geemap.Map(height=400)\n",
        "# m.add_ee_layer(boundary)\n",
        "# display(m)"
      ]
    },
    {
      "cell_type": "markdown",
      "metadata": {
        "id": "a7d608ea"
      },
      "source": [
        "## Adjust date range\n",
        "\n",
        "### Subtask:\n",
        "Review and potentially adjust the date range used for filtering the MODIS collection to align with the typical rice growing seasons in the Dominican Republic.\n"
      ]
    },
    {
      "cell_type": "markdown",
      "metadata": {
        "id": "72af3a23"
      },
      "source": [
        "**Reasoning**:\n",
        "Researching typical rice growing seasons in the Dominican Republic is necessary to determine if the current date range is appropriate and to potentially adjust it in the `get_year_collection` function. This step is purely research and does not require code. After researching, I will examine the current date range in the code and modify it if needed based on the research.\n",
        "\n"
      ]
    },
    {
      "cell_type": "code",
      "execution_count": 22,
      "metadata": {
        "colab": {
          "base_uri": "https://localhost:8080/",
          "height": 17
        },
        "id": "ae773553",
        "outputId": "b67da92c-7c52-43db-80f2-a2867bf6ee1e"
      },
      "outputs": [
        {
          "output_type": "display_data",
          "data": {
            "text/plain": [
              "<IPython.core.display.HTML object>"
            ],
            "text/html": [
              "\n",
              "            <style>\n",
              "                .geemap-dark {\n",
              "                    --jp-widgets-color: white;\n",
              "                    --jp-widgets-label-color: white;\n",
              "                    --jp-ui-font-color1: white;\n",
              "                    --jp-layout-color2: #454545;\n",
              "                    background-color: #383838;\n",
              "                }\n",
              "\n",
              "                .geemap-dark .jupyter-button {\n",
              "                    --jp-layout-color3: #383838;\n",
              "                }\n",
              "\n",
              "                .geemap-colab {\n",
              "                    background-color: var(--colab-primary-surface-color, white);\n",
              "                }\n",
              "\n",
              "                .geemap-colab .jupyter-button {\n",
              "                    --jp-layout-color3: var(--colab-primary-surface-color, white);\n",
              "                }\n",
              "            </style>\n",
              "            "
            ]
          },
          "metadata": {}
        }
      ],
      "source": [
        "# Research indicates that the Dominican Republic has two main rice growing seasons:\n",
        "# 1. Spring/Summer crop: Planting typically from December to March, harvest from May to August.\n",
        "# 2. Fall/Winter crop: Planting typically from July to October, harvest from November to February.\n",
        "\n",
        "# The current date range in get_year_collection is from June 1st to October 31st.\n",
        "# This range partially covers the Fall/Winter planting and the Spring/Summer harvest, but might not fully capture both seasons or their key phenological stages.\n",
        "\n",
        "# To better capture both seasons, a wider date range is needed. A range from November 1st to June 30th of the following year could potentially cover the critical periods for both crops.\n",
        "\n",
        "def get_year_collection(year):\n",
        "  year = ee.Number(year)\n",
        "  # Adjusted date range to potentially capture both rice growing seasons in the Dominican Republic\n",
        "  start_date = year.format().cat('-11-01')\n",
        "  end_date = year.add(1).format().cat('-06-30')\n",
        "  dataset = (\n",
        "      ee.ImageCollection('MODIS/061/MOD13Q1')\n",
        "      .filterBounds(envelope)\n",
        "      .filter(ee.Filter.date(start_date, end_date))\n",
        "      .select(\"NDVI\")\n",
        "      .map(\n",
        "        lambda image: image.addBands( # Adds a band with the number of day since the start of that year\n",
        "        ee.Image.constant(\n",
        "          ee.Date(image.get(\"system:time_start\"))\n",
        "          .getRelative('day', 'year').add(9) # Add 9 since the image is based in a 16 day composite\n",
        "          .add(\n",
        "            ee.Date(image.get(\"system:time_start\")).get(\"year\")\n",
        "            .subtract(year).multiply(365)\n",
        "          )\n",
        "        ).rename([\"t\"]).float()\n",
        "      )\n",
        "    )\n",
        "  )\n",
        "  return dataset\n",
        "\n",
        "# Update the year_collection with the new date range for testing\n",
        "year_collection = get_year_collection(2020)"
      ]
    },
    {
      "cell_type": "markdown",
      "metadata": {
        "id": "39972ac6"
      },
      "source": [
        "## Refine crop mask\n",
        "\n",
        "### Subtask:\n",
        "Modify the crop mask to specifically target rice growing areas in the Dominican Republic. This might involve using a more specific land cover dataset or applying additional filtering criteria.\n"
      ]
    },
    {
      "cell_type": "markdown",
      "metadata": {
        "id": "76c40008"
      },
      "source": [
        "**Reasoning**:\n",
        "Inspect the current land cover classification and the current crop mask to understand what land cover types are currently included and research land cover classifications relevant to rice cultivation in the Dominican Republic.\n",
        "\n"
      ]
    },
    {
      "cell_type": "code",
      "execution_count": 23,
      "metadata": {
        "colab": {
          "base_uri": "https://localhost:8080/",
          "height": 499
        },
        "id": "c255adcb",
        "outputId": "54dbcdcf-bf50-449d-ac88-dfd4d47e3519"
      },
      "outputs": [
        {
          "output_type": "display_data",
          "data": {
            "text/plain": [
              "<IPython.core.display.HTML object>"
            ],
            "text/html": [
              "\n",
              "            <style>\n",
              "                .geemap-dark {\n",
              "                    --jp-widgets-color: white;\n",
              "                    --jp-widgets-label-color: white;\n",
              "                    --jp-ui-font-color1: white;\n",
              "                    --jp-layout-color2: #454545;\n",
              "                    background-color: #383838;\n",
              "                }\n",
              "\n",
              "                .geemap-dark .jupyter-button {\n",
              "                    --jp-layout-color3: #383838;\n",
              "                }\n",
              "\n",
              "                .geemap-colab {\n",
              "                    background-color: var(--colab-primary-surface-color, white);\n",
              "                }\n",
              "\n",
              "                .geemap-colab .jupyter-button {\n",
              "                    --jp-layout-color3: var(--colab-primary-surface-color, white);\n",
              "                }\n",
              "            </style>\n",
              "            "
            ]
          },
          "metadata": {}
        },
        {
          "output_type": "stream",
          "name": "stdout",
          "text": [
            "IGBP Land Cover classes and their descriptions:\n",
            "1: Evergreen Needleleaf Forests\n",
            "2: Evergreen Broadleaf Forests\n",
            "3: Deciduous Needleleaf Forests\n",
            "4: Deciduous Broadleaf Forests\n",
            "5: Mixed Forests\n",
            "6: Closed Shrublands\n",
            "7: Open Shrublands\n",
            "8: Woody Savannas\n",
            "9: Savannas\n",
            "10: Grasslands\n",
            "11: Permanent Wetlands\n",
            "12: Croplands\n",
            "13: Urban and Built-up\n",
            "14: Cropland/Natural Vegetation Mosaics\n",
            "15: Snow and Ice\n",
            "16: Barren or Sparsely Vegetated\n",
            "17: Water Bodies\n",
            "\n",
            "Current igbpSuitableForCrops mask criteria:\n",
            "Excludes: Forests (1-5), Permanent wetlands (11), Urban (13), Snow/Ice/Barren/Water (>=15)\n",
            "Includes: landcover.lte(5).Not() AND igbpLandCover.eq(11).Not() AND igbpLandCover.eq(13).Not() AND igbpLandCover.gte(15).Not()\n",
            "\n",
            "Current igbpCroplands mask criteria:\n",
            "Includes: Croplands (12) OR Cropland/Natural Vegetation Mosaics (14)\n",
            "Includes: igbpLandCover.eq(12).Or(igbpLandCover.eq(14))\n"
          ]
        }
      ],
      "source": [
        "# Inspect the current land cover classification\n",
        "print(\"IGBP Land Cover classes and their descriptions:\")\n",
        "print(\"1: Evergreen Needleleaf Forests\")\n",
        "print(\"2: Evergreen Broadleaf Forests\")\n",
        "print(\"3: Deciduous Needleleaf Forests\")\n",
        "print(\"4: Deciduous Broadleaf Forests\")\n",
        "print(\"5: Mixed Forests\")\n",
        "print(\"6: Closed Shrublands\")\n",
        "print(\"7: Open Shrublands\")\n",
        "print(\"8: Woody Savannas\")\n",
        "print(\"9: Savannas\")\n",
        "print(\"10: Grasslands\")\n",
        "print(\"11: Permanent Wetlands\")\n",
        "print(\"12: Croplands\")\n",
        "print(\"13: Urban and Built-up\")\n",
        "print(\"14: Cropland/Natural Vegetation Mosaics\")\n",
        "print(\"15: Snow and Ice\")\n",
        "print(\"16: Barren or Sparsely Vegetated\")\n",
        "print(\"17: Water Bodies\")\n",
        "\n",
        "# Inspect the current crop mask criteria\n",
        "print(\"\\nCurrent igbpSuitableForCrops mask criteria:\")\n",
        "print(\"Excludes: Forests (1-5), Permanent wetlands (11), Urban (13), Snow/Ice/Barren/Water (>=15)\")\n",
        "print(\"Includes: landcover.lte(5).Not() AND igbpLandCover.eq(11).Not() AND igbpLandCover.eq(13).Not() AND igbpLandCover.gte(15).Not()\")\n",
        "\n",
        "print(\"\\nCurrent igbpCroplands mask criteria:\")\n",
        "print(\"Includes: Croplands (12) OR Cropland/Natural Vegetation Mosaics (14)\")\n",
        "print(\"Includes: igbpLandCover.eq(12).Or(igbpLandCover.eq(14))\")\n",
        "\n",
        "# Research on land cover classifications for rice in Dominican Republic suggests that IGBP classes 12 (Croplands)\n",
        "# and 14 (Cropland/Natural Vegetation Mosaics) are relevant but might include other crop types.\n",
        "# While more specific rice mapping datasets might exist, for this exercise,\n",
        "# we will refine the current IGBP classification by potentially adding or removing classes\n",
        "# or by considering if a more specific threshold on NDVI or other indices could help isolate rice.\n",
        "# However, without additional datasets or specific rice-growing area information for the DR,\n",
        "# relying solely on IGBP classes 12 and 14 within the suitable for crops mask seems reasonable as a starting point.\n",
        "# We will use igbpCroplands as the initial rice mask and evaluate its suitability."
      ]
    },
    {
      "cell_type": "code",
      "execution_count": 25,
      "metadata": {
        "colab": {
          "base_uri": "https://localhost:8080/",
          "height": 17
        },
        "id": "0bc15a57",
        "outputId": "af7372d9-3dba-492a-9eb6-3bcce9609a7a"
      },
      "outputs": [
        {
          "output_type": "display_data",
          "data": {
            "text/plain": [
              "<IPython.core.display.HTML object>"
            ],
            "text/html": [
              "\n",
              "            <style>\n",
              "                .geemap-dark {\n",
              "                    --jp-widgets-color: white;\n",
              "                    --jp-widgets-label-color: white;\n",
              "                    --jp-ui-font-color1: white;\n",
              "                    --jp-layout-color2: #454545;\n",
              "                    background-color: #383838;\n",
              "                }\n",
              "\n",
              "                .geemap-dark .jupyter-button {\n",
              "                    --jp-layout-color3: #383838;\n",
              "                }\n",
              "\n",
              "                .geemap-colab {\n",
              "                    background-color: var(--colab-primary-surface-color, white);\n",
              "                }\n",
              "\n",
              "                .geemap-colab .jupyter-button {\n",
              "                    --jp-layout-color3: var(--colab-primary-surface-color, white);\n",
              "                }\n",
              "            </style>\n",
              "            "
            ]
          },
          "metadata": {}
        }
      ],
      "source": [
        "# 1. Call the get_year_collection function with the appropriate year range (2011 to 2023)\n",
        "#    to create an updated image collection filtered by the Dominican Republic boundary\n",
        "#    and the new date range.\n",
        "# The get_year_collection function was already updated in the previous subtask to use\n",
        "# the new date range and the Dominican Republic boundary (via the global 'envelope' variable).\n",
        "# We just need to generate the collection for the specified years.\n",
        "season_collection = ee.ImageCollection(\n",
        "    ee.List(list(range(2011, 2024))).map(get_season_for_year)\n",
        ")\n",
        "\n",
        "# The get_season_for_year function already performs steps 2, 3, and 4:\n",
        "# 2. Apply the fit_harmonic_model function to the updated image collection to calculate\n",
        "#    the harmonic coefficients and fitted NDVI values.\n",
        "# 3. Apply the get_season_image function to the fitted harmonic collection to calculate\n",
        "#    the Start of Season (SOS), End of Season (EOS), and Length of Season (LOS) images\n",
        "#    for each year in the collection.\n",
        "# 4. Create an Earth Engine ImageCollection from the yearly season images.\n",
        "# The get_season_for_year function takes a year, calls get_year_collection,\n",
        "# then fit_harmonic_model, then get_season_image, and finally sets the year property\n",
        "# on the resulting season image. The map function then applies this to the list of years,\n",
        "# and ee.ImageCollection wraps the results into a collection."
      ]
    },
    {
      "cell_type": "code",
      "execution_count": 26,
      "metadata": {
        "colab": {
          "base_uri": "https://localhost:8080/",
          "height": 17
        },
        "id": "poFjCYgzOWWi",
        "outputId": "67d1ba36-d6ab-46ce-e781-d9d46b496045"
      },
      "outputs": [
        {
          "output_type": "display_data",
          "data": {
            "text/plain": [
              "<IPython.core.display.HTML object>"
            ],
            "text/html": [
              "\n",
              "            <style>\n",
              "                .geemap-dark {\n",
              "                    --jp-widgets-color: white;\n",
              "                    --jp-widgets-label-color: white;\n",
              "                    --jp-ui-font-color1: white;\n",
              "                    --jp-layout-color2: #454545;\n",
              "                    background-color: #383838;\n",
              "                }\n",
              "\n",
              "                .geemap-dark .jupyter-button {\n",
              "                    --jp-layout-color3: #383838;\n",
              "                }\n",
              "\n",
              "                .geemap-colab {\n",
              "                    background-color: var(--colab-primary-surface-color, white);\n",
              "                }\n",
              "\n",
              "                .geemap-colab .jupyter-button {\n",
              "                    --jp-layout-color3: var(--colab-primary-surface-color, white);\n",
              "                }\n",
              "            </style>\n",
              "            "
            ]
          },
          "metadata": {}
        }
      ],
      "source": [
        "def get_season_for_year(year):\n",
        "    collection = get_year_collection(year)\n",
        "    fitted_harmonic = fit_harmonic_model(collection)\n",
        "    sos_image = get_season_image(fitted_harmonic)\n",
        "    sos_image = sos_image.set(\"year\", year)\n",
        "    return sos_image\n",
        "\n",
        "# 1. Call the get_year_collection function with the appropriate year range (2011 to 2023)\n",
        "#    to create an updated image collection filtered by the Dominican Republic boundary\n",
        "#    and the new date range.\n",
        "# The get_year_collection function was already updated in the previous subtask to use\n",
        "# the new date range and the Dominican Republic boundary (via the global 'envelope' variable).\n",
        "# We just need to generate the collection for the specified years.\n",
        "season_collection = ee.ImageCollection(\n",
        "    ee.List(list(range(2011, 2024))).map(get_season_for_year)\n",
        ")\n",
        "\n",
        "# The get_season_for_year function already performs steps 2, 3, and 4:\n",
        "# 2. Apply the fit_harmonic_model function to the updated image collection to calculate\n",
        "#    the harmonic coefficients and fitted NDVI values.\n",
        "# 3. Apply the get_season_image function to the fitted harmonic collection to calculate\n",
        "#    the Start of Season (SOS), End of Season (EOS), and Length of Season (LOS) images\n",
        "#    for each year in the collection.\n",
        "# 4. Create an Earth Engine ImageCollection from the yearly season images.\n",
        "# The get_season_for_year function takes a year, calls get_year_collection,\n",
        "# then fit_harmonic_model, then get_season_image, and finally sets the year property\n",
        "# on the resulting season image. The map function then applies this to the list of years,\n",
        "# and ee.ImageCollection wraps the results into a collection."
      ]
    },
    {
      "cell_type": "code",
      "execution_count": 27,
      "metadata": {
        "colab": {
          "base_uri": "https://localhost:8080/",
          "height": 17
        },
        "id": "cJmEPVjUOZ8R",
        "outputId": "ce73e9cf-3d33-448a-87fd-09c54a3353e4"
      },
      "outputs": [
        {
          "output_type": "display_data",
          "data": {
            "text/plain": [
              "<IPython.core.display.HTML object>"
            ],
            "text/html": [
              "\n",
              "            <style>\n",
              "                .geemap-dark {\n",
              "                    --jp-widgets-color: white;\n",
              "                    --jp-widgets-label-color: white;\n",
              "                    --jp-ui-font-color1: white;\n",
              "                    --jp-layout-color2: #454545;\n",
              "                    background-color: #383838;\n",
              "                }\n",
              "\n",
              "                .geemap-dark .jupyter-button {\n",
              "                    --jp-layout-color3: #383838;\n",
              "                }\n",
              "\n",
              "                .geemap-colab {\n",
              "                    background-color: var(--colab-primary-surface-color, white);\n",
              "                }\n",
              "\n",
              "                .geemap-colab .jupyter-button {\n",
              "                    --jp-layout-color3: var(--colab-primary-surface-color, white);\n",
              "                }\n",
              "            </style>\n",
              "            "
            ]
          },
          "metadata": {}
        }
      ],
      "source": [
        "# Redefine necessary functions that were likely lost from previous execution states.\n",
        "\n",
        "def get_year_collection(year):\n",
        "  year = ee.Number(year)\n",
        "  # Adjusted date range to potentially capture both rice growing seasons in the Dominican Republic\n",
        "  start_date = year.format().cat('-11-01')\n",
        "  end_date = year.add(1).format().cat('-06-30')\n",
        "  dataset = (\n",
        "      ee.ImageCollection('MODIS/061/MOD13Q1')\n",
        "      .filterBounds(envelope)\n",
        "      .filter(ee.Filter.date(start_date, end_date))\n",
        "      .select(\"NDVI\")\n",
        "      .map(\n",
        "        lambda image: image.addBands( # Adds a band with the number of day since the start of that year\n",
        "        ee.Image.constant(\n",
        "          ee.Date(image.get(\"system:time_start\"))\n",
        "          .getRelative('day', 'year').add(9) # Add 9 since the image is based in a 16 day composite\n",
        "          .add(\n",
        "            ee.Date(image.get(\"system:time_start\")).get(\"year\")\n",
        "            .subtract(year).multiply(365)\n",
        "          )\n",
        "        ).rename([\"t\"]).float()\n",
        "      )\n",
        "    )\n",
        "  )\n",
        "  return dataset\n",
        "\n",
        "def add_harmonic_variables(image):\n",
        "  image = image.addBands(ee.Image.constant(1))\n",
        "  timeRadians = image.select('t').divide(365).multiply(2 * np.pi)\n",
        "  image = image.addBands(timeRadians.cos().rename('cos1'))\n",
        "  image = image.addBands(timeRadians.sin().rename('sin1'))\n",
        "  image = image.addBands(timeRadians.divide(2).cos().rename('cos2'))\n",
        "  image = image.addBands(timeRadians.divide(2).sin().rename('sin2'))\n",
        "  return image\n",
        "\n",
        "def fit_harmonic_model(collection):\n",
        "  harmonic_independents = ee.List(['constant', 'cos1', 'sin1', 'cos2', 'sin2']);\n",
        "  dependent = ee.String('NDVI')\n",
        "  harmonic = collection.map(add_harmonic_variables)\n",
        "\n",
        "  harmonic_fit = (\n",
        "    harmonic\n",
        "    .select(harmonic_independents.add(dependent))\n",
        "    .reduce(\n",
        "      ee.Reducer.linearRegression(**{ # The output of this reducer is a 3x1 array image.\n",
        "        \"numX\": harmonic_independents.length(),\n",
        "        \"numY\": 1\n",
        "      })\n",
        "    )\n",
        "  )\n",
        "  # Turn the array image into a multi-band image of coefficients.\n",
        "  harmonic_coefficients = (\n",
        "    harmonic_fit.select('coefficients')\n",
        "    .arrayProject([0])\n",
        "    .arrayFlatten([harmonic_independents])\n",
        "  )\n",
        "  # Compute fitted values.\n",
        "  # fittedHarmonic = harmonicInds.map(lambda img:\n",
        "  fitted_harmonic = harmonic.map(lambda image:\n",
        "    image.addBands(\n",
        "      image.select(harmonic_independents)\n",
        "      .multiply(harmonic_coefficients)\n",
        "      .reduce('sum')\n",
        "      .rename('fitted')\n",
        "    )\n",
        "  )\n",
        "  return fitted_harmonic\n",
        "\n",
        "def get_min_max_time_image(fitted_harmonic):\n",
        "  axes = {\"image\": 0, \"band\": 1}\n",
        "\n",
        "  # First find the max NDVI\n",
        "  array = fitted_harmonic.select([\"fitted\", 't']).toArray()\n",
        "  sort = array.arraySlice(axes[\"band\"], 0, 1) # Select fitted NDVI band\n",
        "  sorted = array.arraySort(sort) # Sort by fitted NDVI values\n",
        "  length = sorted.arrayLength(axes['image'])\n",
        "  values_max = sorted.arraySlice(axes['image'], length.subtract(1), length) # Selecting last image (max fitted)\n",
        "  max_image = values_max.arrayProject([axes[\"band\"]]).arrayFlatten([['fitted', 't']])\n",
        "  time_max = max_image.select('t') # Image with the time of max NDVI\n",
        "\n",
        "  # Mask out all values after the max NDVI\n",
        "  fitted_harmonic_before_max = fitted_harmonic.map(\n",
        "      lambda image: image.updateMask(image.select(\"t\").lt(time_max))\n",
        "  )\n",
        "  array = fitted_harmonic_before_max.select([\"fitted\", 't']).toArray()\n",
        "  sort = array.arraySlice(axes[\"band\"], 0, 1) # Select fitted NDVI band\n",
        "  sorted = array.arraySort(sort) # Sort by fitted NDVI values\n",
        "  values_min = sorted.arraySlice(axes[\"image\"], 0, 1) # Selecting first image (min fitted)\n",
        "  minsos_image = values_min.arrayProject([axes[\"band\"]]).arrayFlatten([['fitted', 't']])\n",
        "\n",
        "  # Mask out all values after the max NDVI\n",
        "  fitted_harmonic_after_max = fitted_harmonic.map(\n",
        "      lambda image: image.updateMask(image.select(\"t\").gt(time_max))\n",
        "  )\n",
        "  array = fitted_harmonic_after_max.select([\"fitted\", 't']).toArray()\n",
        "  sort = array.arraySlice(axes[\"band\"], 0, 1) # Select fitted NDVI band\n",
        "  sorted = array.arraySort(sort) # Sort by fitted NDVI values\n",
        "  values_min = sorted.arraySlice(axes[\"image\"], 0, 1) # Selecting first image (min fitted)\n",
        "  mineos_image = values_min.arrayProject([axes[\"band\"]]).arrayFlatten([['fitted', 't']])\n",
        "\n",
        "  image = max_image.addBands(minsos_image).addBands(mineos_image).rename(\n",
        "      [\"max_val\", \"max_time\", \"minsos_val\", \"minsos_time\", \"mineos_val\", \"mineos_time\"]\n",
        "  )\n",
        "  return image\n",
        "\n",
        "def get_season_image(fitted_harmonic):\n",
        "  max_min_image = get_min_max_time_image(fitted_harmonic)\n",
        "  tmin_sos = max_min_image.select(\"minsos_time\")\n",
        "  vimin_sos = max_min_image.select(\"minsos_val\")\n",
        "  tmax = max_min_image.select(\"max_time\")\n",
        "  vimax = max_min_image.select(\"max_val\")\n",
        "  tmin_eos = max_min_image.select(\"mineos_time\")\n",
        "  vimin_eos = max_min_image.select(\"mineos_val\")\n",
        "\n",
        "  vi_sos = vimin_sos.add(\n",
        "      ee.Image(vimax.subtract(vimin_sos)).multiply(0.25)\n",
        "  )\n",
        "  vi_eos = vimin_eos.add(\n",
        "      ee.Image(vimax.subtract(vimin_sos)).multiply(0.75)\n",
        "  )\n",
        "\n",
        "  # Produce SOS image\n",
        "  vi_diff = fitted_harmonic.map(\n",
        "    lambda image:\n",
        "    image.addBands(\n",
        "      image.select(\"fitted\").subtract(vi_sos.select(0)).abs()\n",
        "      .rename([\"vi_diff\"])\n",
        "    ).updateMask(\n",
        "      image.select(\"t\").gt(tmin_sos)\n",
        "    ).updateMask(\n",
        "      image.select(\"t\").lt(tmax)\n",
        "    )\n",
        "  )\n",
        "  axes = {\"image\": 0, \"band\": 1}\n",
        "  array = vi_diff.select([\"vi_diff\", 't']).toArray()\n",
        "  sort = array.arraySlice(axes[\"band\"], 0, 1)\n",
        "  sorted = array.arraySort(sort)\n",
        "  vi_diff_min = sorted.arraySlice(axes[\"image\"], 0, 1)\n",
        "  sos_image = vi_diff_min.arrayProject([axes[\"band\"]]).arrayFlatten([['vi_diff', 'sos']])\n",
        "  sos_image = sos_image.select(\"sos\")\n",
        "\n",
        "  # Produce EOS image\n",
        "  vi_diff = fitted_harmonic.map(\n",
        "    lambda image:\n",
        "    image.addBands(\n",
        "      image.select(\"fitted\").subtract(vi_eos.select(0)).abs()\n",
        "      .rename([\"vi_diff\"])\n",
        "    ).updateMask(\n",
        "      image.select(\"t\").gt(tmax)\n",
        "    ).updateMask(\n",
        "      image.select(\"t\").lt(tmin_eos)\n",
        "    )\n",
        "  )\n",
        "  axes = {\"image\": 0, \"band\": 1}\n",
        "  array = vi_diff.select([\"vi_diff\", 't']).toArray()\n",
        "  sort = array.arraySlice(axes[\"band\"], 0, 1)\n",
        "  sorted = array.arraySort(sort)\n",
        "  vi_diff_min = sorted.arraySlice(axes[\"image\"], 0, 1)\n",
        "  eos_image = vi_diff_min.arrayProject([axes[\"band\"]]).arrayFlatten([['vi_diff', 'eos']])\n",
        "  eos_image = eos_image.select(\"eos\")\n",
        "\n",
        "  image = sos_image.addBands(eos_image)\n",
        "  image = image.addBands(eos_image.subtract(sos_image).rename([\"los\"]))\n",
        "  return image\n",
        "\n",
        "def get_season_for_year(year):\n",
        "    collection = get_year_collection(year)\n",
        "    fitted_harmonic = fit_harmonic_model(collection)\n",
        "    sos_image = get_season_image(fitted_harmonic)\n",
        "    sos_image = sos_image.set(\"year\", year)\n",
        "    return sos_image\n",
        "\n",
        "# Create the season collection for the specified years.\n",
        "season_collection = ee.ImageCollection(\n",
        "    ee.List(list(range(2011, 2024))).map(get_season_for_year)\n",
        ")"
      ]
    },
    {
      "cell_type": "markdown",
      "metadata": {
        "id": "56a0e340"
      },
      "source": [
        "**Reasoning**:\n",
        "Export the calculated average SOS, EOS, and LOS images for the Dominican Republic, masked by the rice mask, to Google Drive.\n",
        "\n"
      ]
    },
    {
      "cell_type": "code",
      "execution_count": 28,
      "metadata": {
        "colab": {
          "base_uri": "https://localhost:8080/",
          "height": 17
        },
        "id": "1f5c5358",
        "outputId": "c6c8449f-673d-4d15-828b-ec6b5df74eca"
      },
      "outputs": [
        {
          "output_type": "display_data",
          "data": {
            "text/plain": [
              "<IPython.core.display.HTML object>"
            ],
            "text/html": [
              "\n",
              "            <style>\n",
              "                .geemap-dark {\n",
              "                    --jp-widgets-color: white;\n",
              "                    --jp-widgets-label-color: white;\n",
              "                    --jp-ui-font-color1: white;\n",
              "                    --jp-layout-color2: #454545;\n",
              "                    background-color: #383838;\n",
              "                }\n",
              "\n",
              "                .geemap-dark .jupyter-button {\n",
              "                    --jp-layout-color3: #383838;\n",
              "                }\n",
              "\n",
              "                .geemap-colab {\n",
              "                    background-color: var(--colab-primary-surface-color, white);\n",
              "                }\n",
              "\n",
              "                .geemap-colab .jupyter-button {\n",
              "                    --jp-layout-color3: var(--colab-primary-surface-color, white);\n",
              "                }\n",
              "            </style>\n",
              "            "
            ]
          },
          "metadata": {}
        }
      ],
      "source": [
        "# Define the image to export for the average SOS, masked by rice_mask and clipped to the boundary.\n",
        "sos_export_image = season_collection.select(\"sos\").mean().mask(rice_mask).clip(boundary)\n",
        "\n",
        "# Start the export task for the average SOS image to Google Drive.\n",
        "task_sos = ee.batch.Export.image.toDrive(**{\n",
        "    \"image\": sos_export_image,\n",
        "    \"fileNamePrefix\" : \"dominican_republic_modis_sos_rice\",\n",
        "    \"region\": boundary.geometry(),\n",
        "    \"crs\": 'EPSG:4326',\n",
        "    \"folder\": 'gee_exports'\n",
        " })\n",
        "task_sos.start()\n",
        "\n",
        "# Define the image to export for the average EOS, masked by rice_mask and clipped to the boundary.\n",
        "eos_export_image = season_collection.select(\"eos\").mean().mask(rice_mask).clip(boundary)\n",
        "\n",
        "# Start the export task for the average EOS image to Google Drive.\n",
        "task_eos = ee.batch.Export.image.toDrive(**{\n",
        "    \"image\": eos_export_image,\n",
        "    \"fileNamePrefix\" : \"dominican_republic_modis_eos_rice\",\n",
        "    \"region\": boundary.geometry(),\n",
        "    \"crs\": 'EPSG:4326',\n",
        "    \"folder\": 'gee_exports'\n",
        " })\n",
        "task_eos.start()\n",
        "\n",
        "# Define the image to export for the average LOS, masked by rice_mask and clipped to the boundary.\n",
        "los_export_image = season_collection.select(\"los\").mean().mask(rice_mask).clip(boundary)\n",
        "\n",
        "# Start the export task for the average LOS image to Google Drive.\n",
        "task_los = ee.batch.Export.image.toDrive(**{\n",
        "    \"image\": los_export_image,\n",
        "    \"fileNamePrefix\" : \"dominican_republic_modis_los_rice\",\n",
        "    \"region\": boundary.geometry(),\n",
        "    \"crs\": 'EPSG:4326',\n",
        "    \"folder\": 'gee_exports'\n",
        " })\n",
        "task_los.start()"
      ]
    },
    {
      "cell_type": "code",
      "execution_count": 29,
      "metadata": {
        "colab": {
          "base_uri": "https://localhost:8080/",
          "height": 17
        },
        "id": "043129ce",
        "outputId": "3fd5bdbc-9d2a-4c9b-a566-8b5628c15434"
      },
      "outputs": [
        {
          "output_type": "display_data",
          "data": {
            "text/plain": [
              "<IPython.core.display.HTML object>"
            ],
            "text/html": [
              "\n",
              "            <style>\n",
              "                .geemap-dark {\n",
              "                    --jp-widgets-color: white;\n",
              "                    --jp-widgets-label-color: white;\n",
              "                    --jp-ui-font-color1: white;\n",
              "                    --jp-layout-color2: #454545;\n",
              "                    background-color: #383838;\n",
              "                }\n",
              "\n",
              "                .geemap-dark .jupyter-button {\n",
              "                    --jp-layout-color3: #383838;\n",
              "                }\n",
              "\n",
              "                .geemap-colab {\n",
              "                    background-color: var(--colab-primary-surface-color, white);\n",
              "                }\n",
              "\n",
              "                .geemap-colab .jupyter-button {\n",
              "                    --jp-layout-color3: var(--colab-primary-surface-color, white);\n",
              "                }\n",
              "            </style>\n",
              "            "
            ]
          },
          "metadata": {}
        }
      ],
      "source": [
        "# Research indicates that the Dominican Republic has two main rice growing seasons:\n",
        "# 1. Spring/Summer crop: Planting typically from December to March, harvest from May to August.\n",
        "# 2. Fall/Winter crop: Planting typically from July to October, harvest from November to February.\n",
        "\n",
        "# The current date range in get_year_collection is from June 1st to October 31st.\n",
        "# This range partially covers the Fall/Winter planting and the Spring/Summer harvest, but might not fully capture both seasons or their key phenological stages.\n",
        "\n",
        "# To better capture both seasons, a wider date range is needed. A range from November 1st to June 30th of the following year could potentially cover the critical periods for both crops.\n",
        "\n",
        "def get_year_collection(year):\n",
        "  year = ee.Number(year)\n",
        "  # Adjusted date range to potentially capture both rice growing seasons in the Dominican Republic\n",
        "  start_date = year.format().cat('-11-01')\n",
        "  end_date = year.add(1).format().cat('-06-30')\n",
        "  dataset = (\n",
        "      ee.ImageCollection('MODIS/061/MOD13Q1')\n",
        "      .filterBounds(envelope)\n",
        "      .filter(ee.Filter.date(start_date, end_date))\n",
        "      .select(\"NDVI\")\n",
        "      .map(\n",
        "        lambda image: image.addBands( # Adds a band with the number of day since the start of that year\n",
        "        ee.Image.constant(\n",
        "          ee.Date(image.get(\"system:time_start\"))\n",
        "          .getRelative('day', 'year').add(9) # Add 9 since the image is based in a 16 day composite\n",
        "          .add(\n",
        "            ee.Date(image.get(\"system:time_start\")).get(\"year\")\n",
        "            .subtract(year).multiply(365)\n",
        "          )\n",
        "        ).rename([\"t\"]).float()\n",
        "      )\n",
        "    )\n",
        "  )\n",
        "  return dataset\n",
        "\n",
        "# Update the year_collection with the new date range for testing\n",
        "year_collection = get_year_collection(2020)"
      ]
    },
    {
      "cell_type": "markdown",
      "metadata": {
        "id": "9ac804db"
      },
      "source": [
        "**Reasoning**:\n",
        "Inspect the current land cover classification and the current crop mask to understand what land cover types are currently included and research land cover classifications relevant to rice cultivation in the Dominican Republic."
      ]
    },
    {
      "cell_type": "code",
      "execution_count": 30,
      "metadata": {
        "colab": {
          "base_uri": "https://localhost:8080/",
          "height": 499
        },
        "id": "c784ca63",
        "outputId": "5b18ec9c-fdb1-4184-b6bc-f5a2bf8f4b10"
      },
      "outputs": [
        {
          "output_type": "display_data",
          "data": {
            "text/plain": [
              "<IPython.core.display.HTML object>"
            ],
            "text/html": [
              "\n",
              "            <style>\n",
              "                .geemap-dark {\n",
              "                    --jp-widgets-color: white;\n",
              "                    --jp-widgets-label-color: white;\n",
              "                    --jp-ui-font-color1: white;\n",
              "                    --jp-layout-color2: #454545;\n",
              "                    background-color: #383838;\n",
              "                }\n",
              "\n",
              "                .geemap-dark .jupyter-button {\n",
              "                    --jp-layout-color3: #383838;\n",
              "                }\n",
              "\n",
              "                .geemap-colab {\n",
              "                    background-color: var(--colab-primary-surface-color, white);\n",
              "                }\n",
              "\n",
              "                .geemap-colab .jupyter-button {\n",
              "                    --jp-layout-color3: var(--colab-primary-surface-color, white);\n",
              "                }\n",
              "            </style>\n",
              "            "
            ]
          },
          "metadata": {}
        },
        {
          "output_type": "stream",
          "name": "stdout",
          "text": [
            "IGBP Land Cover classes and their descriptions:\n",
            "1: Evergreen Needleleaf Forests\n",
            "2: Evergreen Broadleaf Forests\n",
            "3: Deciduous Needleleaf Forests\n",
            "4: Deciduous Broadleaf Forests\n",
            "5: Mixed Forests\n",
            "6: Closed Shrublands\n",
            "7: Open Shrublands\n",
            "8: Woody Savannas\n",
            "9: Savannas\n",
            "10: Grasslands\n",
            "11: Permanent Wetlands\n",
            "12: Croplands\n",
            "13: Urban and Built-up\n",
            "14: Cropland/Natural Vegetation Mosaics\n",
            "15: Snow and Ice\n",
            "16: Barren or Sparsely Vegetated\n",
            "17: Water Bodies\n",
            "\n",
            "Current igbpSuitableForCrops mask criteria:\n",
            "Excludes: Forests (1-5), Permanent wetlands (11), Urban (13), Snow/Ice/Barren/Water (>=15)\n",
            "Includes: landcover.lte(5).Not() AND igbpLandCover.eq(11).Not() AND igbpLandCover.eq(13).Not() AND igbpLandCover.gte(15).Not()\n",
            "\n",
            "Current igbpCroplands mask criteria:\n",
            "Includes: Croplands (12) OR Cropland/Natural Vegetation Mosaics (14)\n",
            "Includes: igbpLandCover.eq(12).Or(igbpLandCover.eq(14))\n"
          ]
        }
      ],
      "source": [
        "# Inspect the current land cover classification\n",
        "print(\"IGBP Land Cover classes and their descriptions:\")\n",
        "print(\"1: Evergreen Needleleaf Forests\")\n",
        "print(\"2: Evergreen Broadleaf Forests\")\n",
        "print(\"3: Deciduous Needleleaf Forests\")\n",
        "print(\"4: Deciduous Broadleaf Forests\")\n",
        "print(\"5: Mixed Forests\")\n",
        "print(\"6: Closed Shrublands\")\n",
        "print(\"7: Open Shrublands\")\n",
        "print(\"8: Woody Savannas\")\n",
        "print(\"9: Savannas\")\n",
        "print(\"10: Grasslands\")\n",
        "print(\"11: Permanent Wetlands\")\n",
        "print(\"12: Croplands\")\n",
        "print(\"13: Urban and Built-up\")\n",
        "print(\"14: Cropland/Natural Vegetation Mosaics\")\n",
        "print(\"15: Snow and Ice\")\n",
        "print(\"16: Barren or Sparsely Vegetated\")\n",
        "print(\"17: Water Bodies\")\n",
        "\n",
        "# Inspect the current crop mask criteria\n",
        "print(\"\\nCurrent igbpSuitableForCrops mask criteria:\")\n",
        "print(\"Excludes: Forests (1-5), Permanent wetlands (11), Urban (13), Snow/Ice/Barren/Water (>=15)\")\n",
        "print(\"Includes: landcover.lte(5).Not() AND igbpLandCover.eq(11).Not() AND igbpLandCover.eq(13).Not() AND igbpLandCover.gte(15).Not()\")\n",
        "\n",
        "print(\"\\nCurrent igbpCroplands mask criteria:\")\n",
        "print(\"Includes: Croplands (12) OR Cropland/Natural Vegetation Mosaics (14)\")\n",
        "print(\"Includes: igbpLandCover.eq(12).Or(igbpLandCover.eq(14))\")\n",
        "\n",
        "# Research on land cover classifications for rice in Dominican Republic suggests that IGBP classes 12 (Croplands)\n",
        "# and 14 (Cropland/Natural Vegetation Mosaics) are relevant but might include other crop types.\n",
        "# While more specific rice mapping datasets might exist, for this exercise,\n",
        "# we will refine the current IGBP classification by potentially adding or removing classes\n",
        "# or by considering if a more specific threshold on NDVI or other indices could help isolate rice.\n",
        "# However, without additional datasets or specific rice-growing area information for the DR,\n",
        "# relying solely on IGBP classes 12 and 14 within the suitable for crops mask seems reasonable as a starting point.\n",
        "# We will use igbpCroplands as the initial rice mask and evaluate its suitability."
      ]
    },
    {
      "cell_type": "markdown",
      "metadata": {
        "id": "89019efb"
      },
      "source": [
        "**Reasoning**:\n",
        "Export the calculated average SOS, EOS, and LOS images for the Dominican Republic, masked by the rice mask, to Google Drive."
      ]
    },
    {
      "cell_type": "code",
      "execution_count": 31,
      "metadata": {
        "colab": {
          "base_uri": "https://localhost:8080/",
          "height": 17
        },
        "id": "89bf4371",
        "outputId": "3aafbbb1-ed20-4c1f-9fc1-f0ad507e0323"
      },
      "outputs": [
        {
          "output_type": "display_data",
          "data": {
            "text/plain": [
              "<IPython.core.display.HTML object>"
            ],
            "text/html": [
              "\n",
              "            <style>\n",
              "                .geemap-dark {\n",
              "                    --jp-widgets-color: white;\n",
              "                    --jp-widgets-label-color: white;\n",
              "                    --jp-ui-font-color1: white;\n",
              "                    --jp-layout-color2: #454545;\n",
              "                    background-color: #383838;\n",
              "                }\n",
              "\n",
              "                .geemap-dark .jupyter-button {\n",
              "                    --jp-layout-color3: #383838;\n",
              "                }\n",
              "\n",
              "                .geemap-colab {\n",
              "                    background-color: var(--colab-primary-surface-color, white);\n",
              "                }\n",
              "\n",
              "                .geemap-colab .jupyter-button {\n",
              "                    --jp-layout-color3: var(--colab-primary-surface-color, white);\n",
              "                }\n",
              "            </style>\n",
              "            "
            ]
          },
          "metadata": {}
        }
      ],
      "source": [
        "# Define the image to export for the average SOS, masked by rice_mask and clipped to the boundary.\n",
        "sos_export_image = season_collection.select(\"sos\").mean().mask(rice_mask).clip(boundary)\n",
        "\n",
        "# Start the export task for the average SOS image to Google Drive.\n",
        "task_sos = ee.batch.Export.image.toDrive(**{\n",
        "    \"image\": sos_export_image,\n",
        "    \"fileNamePrefix\" : \"dominican_republic_modis_sos_rice\",\n",
        "    \"region\": boundary.geometry(),\n",
        "    \"crs\": 'EPSG:4326',\n",
        "    \"folder\": 'gee_exports'\n",
        " })\n",
        "task_sos.start()\n",
        "\n",
        "# Define the image to export for the average EOS, masked by rice_mask and clipped to the boundary.\n",
        "eos_export_image = season_collection.select(\"eos\").mean().mask(rice_mask).clip(boundary)\n",
        "\n",
        "# Start the export task for the average EOS image to Google Drive.\n",
        "task_eos = ee.batch.Export.image.toDrive(**{\n",
        "    \"image\": eos_export_image,\n",
        "    \"fileNamePrefix\" : \"dominican_republic_modis_eos_rice\",\n",
        "    \"region\": boundary.geometry(),\n",
        "    \"crs\": 'EPSG:4326',\n",
        "    \"folder\": 'gee_exports'\n",
        " })\n",
        "task_eos.start()\n",
        "\n",
        "# Define the image to export for the average LOS, masked by rice_mask and clipped to the boundary.\n",
        "los_export_image = season_collection.select(\"los\").mean().mask(rice_mask).clip(boundary)\n",
        "\n",
        "# Start the export task for the average LOS image to Google Drive.\n",
        "task_los = ee.batch.Export.image.toDrive(**{\n",
        "    \"image\": los_export_image,\n",
        "    \"fileNamePrefix\" : \"dominican_republic_modis_los_rice\",\n",
        "    \"region\": boundary.geometry(),\n",
        "    \"crs\": 'EPSG:4326',\n",
        "    \"folder\": 'gee_exports'\n",
        " })\n",
        "task_los.start()"
      ]
    },
    {
      "cell_type": "markdown",
      "metadata": {
        "id": "17e88552"
      },
      "source": [
        "## Export Parameters for Specific Points\n",
        "\n",
        "You can sample the `season_collection` at specific latitude and longitude points to extract the SOS, EOS, and LOS values for those locations across all years."
      ]
    },
    {
      "cell_type": "code",
      "execution_count": 35,
      "metadata": {
        "colab": {
          "base_uri": "https://localhost:8080/",
          "height": 681
        },
        "id": "678100c8",
        "outputId": "7e53e5d2-5d85-4464-87c1-c11526a7d900"
      },
      "outputs": [
        {
          "output_type": "display_data",
          "data": {
            "text/plain": [
              "<IPython.core.display.HTML object>"
            ],
            "text/html": [
              "\n",
              "            <style>\n",
              "                .geemap-dark {\n",
              "                    --jp-widgets-color: white;\n",
              "                    --jp-widgets-label-color: white;\n",
              "                    --jp-ui-font-color1: white;\n",
              "                    --jp-layout-color2: #454545;\n",
              "                    background-color: #383838;\n",
              "                }\n",
              "\n",
              "                .geemap-dark .jupyter-button {\n",
              "                    --jp-layout-color3: #383838;\n",
              "                }\n",
              "\n",
              "                .geemap-colab {\n",
              "                    background-color: var(--colab-primary-surface-color, white);\n",
              "                }\n",
              "\n",
              "                .geemap-colab .jupyter-button {\n",
              "                    --jp-layout-color3: var(--colab-primary-surface-color, white);\n",
              "                }\n",
              "            </style>\n",
              "            "
            ]
          },
          "metadata": {}
        },
        {
          "output_type": "display_data",
          "data": {
            "text/plain": [
              "     eos  los  sos  year\n",
              "0    518   80  438  2011\n",
              "1    534   80  454  2011\n",
              "2    534   80  454  2011\n",
              "3    534   80  454  2011\n",
              "4    534   80  454  2011\n",
              "..   ...  ...  ...   ...\n",
              "345  422   93  329  2023\n",
              "346  470   96  374  2023\n",
              "347  454   80  374  2023\n",
              "348  470   80  390  2023\n",
              "349  406   77  329  2023\n",
              "\n",
              "[350 rows x 4 columns]"
            ],
            "text/html": [
              "\n",
              "  <div id=\"df-cdb15c29-5253-42a6-8ba1-5ffd3a2a533c\" class=\"colab-df-container\">\n",
              "    <div>\n",
              "<style scoped>\n",
              "    .dataframe tbody tr th:only-of-type {\n",
              "        vertical-align: middle;\n",
              "    }\n",
              "\n",
              "    .dataframe tbody tr th {\n",
              "        vertical-align: top;\n",
              "    }\n",
              "\n",
              "    .dataframe thead th {\n",
              "        text-align: right;\n",
              "    }\n",
              "</style>\n",
              "<table border=\"1\" class=\"dataframe\">\n",
              "  <thead>\n",
              "    <tr style=\"text-align: right;\">\n",
              "      <th></th>\n",
              "      <th>eos</th>\n",
              "      <th>los</th>\n",
              "      <th>sos</th>\n",
              "      <th>year</th>\n",
              "    </tr>\n",
              "  </thead>\n",
              "  <tbody>\n",
              "    <tr>\n",
              "      <th>0</th>\n",
              "      <td>518</td>\n",
              "      <td>80</td>\n",
              "      <td>438</td>\n",
              "      <td>2011</td>\n",
              "    </tr>\n",
              "    <tr>\n",
              "      <th>1</th>\n",
              "      <td>534</td>\n",
              "      <td>80</td>\n",
              "      <td>454</td>\n",
              "      <td>2011</td>\n",
              "    </tr>\n",
              "    <tr>\n",
              "      <th>2</th>\n",
              "      <td>534</td>\n",
              "      <td>80</td>\n",
              "      <td>454</td>\n",
              "      <td>2011</td>\n",
              "    </tr>\n",
              "    <tr>\n",
              "      <th>3</th>\n",
              "      <td>534</td>\n",
              "      <td>80</td>\n",
              "      <td>454</td>\n",
              "      <td>2011</td>\n",
              "    </tr>\n",
              "    <tr>\n",
              "      <th>4</th>\n",
              "      <td>534</td>\n",
              "      <td>80</td>\n",
              "      <td>454</td>\n",
              "      <td>2011</td>\n",
              "    </tr>\n",
              "    <tr>\n",
              "      <th>...</th>\n",
              "      <td>...</td>\n",
              "      <td>...</td>\n",
              "      <td>...</td>\n",
              "      <td>...</td>\n",
              "    </tr>\n",
              "    <tr>\n",
              "      <th>345</th>\n",
              "      <td>422</td>\n",
              "      <td>93</td>\n",
              "      <td>329</td>\n",
              "      <td>2023</td>\n",
              "    </tr>\n",
              "    <tr>\n",
              "      <th>346</th>\n",
              "      <td>470</td>\n",
              "      <td>96</td>\n",
              "      <td>374</td>\n",
              "      <td>2023</td>\n",
              "    </tr>\n",
              "    <tr>\n",
              "      <th>347</th>\n",
              "      <td>454</td>\n",
              "      <td>80</td>\n",
              "      <td>374</td>\n",
              "      <td>2023</td>\n",
              "    </tr>\n",
              "    <tr>\n",
              "      <th>348</th>\n",
              "      <td>470</td>\n",
              "      <td>80</td>\n",
              "      <td>390</td>\n",
              "      <td>2023</td>\n",
              "    </tr>\n",
              "    <tr>\n",
              "      <th>349</th>\n",
              "      <td>406</td>\n",
              "      <td>77</td>\n",
              "      <td>329</td>\n",
              "      <td>2023</td>\n",
              "    </tr>\n",
              "  </tbody>\n",
              "</table>\n",
              "<p>350 rows × 4 columns</p>\n",
              "</div>\n",
              "    <div class=\"colab-df-buttons\">\n",
              "\n",
              "  <div class=\"colab-df-container\">\n",
              "    <button class=\"colab-df-convert\" onclick=\"convertToInteractive('df-cdb15c29-5253-42a6-8ba1-5ffd3a2a533c')\"\n",
              "            title=\"Convert this dataframe to an interactive table.\"\n",
              "            style=\"display:none;\">\n",
              "\n",
              "  <svg xmlns=\"http://www.w3.org/2000/svg\" height=\"24px\" viewBox=\"0 -960 960 960\">\n",
              "    <path d=\"M120-120v-720h720v720H120Zm60-500h600v-160H180v160Zm220 220h160v-160H400v160Zm0 220h160v-160H400v160ZM180-400h160v-160H180v160Zm440 0h160v-160H620v160ZM180-180h160v-160H180v160Zm440 0h160v-160H620v160Z\"/>\n",
              "  </svg>\n",
              "    </button>\n",
              "\n",
              "  <style>\n",
              "    .colab-df-container {\n",
              "      display:flex;\n",
              "      gap: 12px;\n",
              "    }\n",
              "\n",
              "    .colab-df-convert {\n",
              "      background-color: #E8F0FE;\n",
              "      border: none;\n",
              "      border-radius: 50%;\n",
              "      cursor: pointer;\n",
              "      display: none;\n",
              "      fill: #1967D2;\n",
              "      height: 32px;\n",
              "      padding: 0 0 0 0;\n",
              "      width: 32px;\n",
              "    }\n",
              "\n",
              "    .colab-df-convert:hover {\n",
              "      background-color: #E2EBFA;\n",
              "      box-shadow: 0px 1px 2px rgba(60, 64, 67, 0.3), 0px 1px 3px 1px rgba(60, 64, 67, 0.15);\n",
              "      fill: #174EA6;\n",
              "    }\n",
              "\n",
              "    .colab-df-buttons div {\n",
              "      margin-bottom: 4px;\n",
              "    }\n",
              "\n",
              "    [theme=dark] .colab-df-convert {\n",
              "      background-color: #3B4455;\n",
              "      fill: #D2E3FC;\n",
              "    }\n",
              "\n",
              "    [theme=dark] .colab-df-convert:hover {\n",
              "      background-color: #434B5C;\n",
              "      box-shadow: 0px 1px 3px 1px rgba(0, 0, 0, 0.15);\n",
              "      filter: drop-shadow(0px 1px 2px rgba(0, 0, 0, 0.3));\n",
              "      fill: #FFFFFF;\n",
              "    }\n",
              "  </style>\n",
              "\n",
              "    <script>\n",
              "      const buttonEl =\n",
              "        document.querySelector('#df-cdb15c29-5253-42a6-8ba1-5ffd3a2a533c button.colab-df-convert');\n",
              "      buttonEl.style.display =\n",
              "        google.colab.kernel.accessAllowed ? 'block' : 'none';\n",
              "\n",
              "      async function convertToInteractive(key) {\n",
              "        const element = document.querySelector('#df-cdb15c29-5253-42a6-8ba1-5ffd3a2a533c');\n",
              "        const dataTable =\n",
              "          await google.colab.kernel.invokeFunction('convertToInteractive',\n",
              "                                                    [key], {});\n",
              "        if (!dataTable) return;\n",
              "\n",
              "        const docLinkHtml = 'Like what you see? Visit the ' +\n",
              "          '<a target=\"_blank\" href=https://colab.research.google.com/notebooks/data_table.ipynb>data table notebook</a>'\n",
              "          + ' to learn more about interactive tables.';\n",
              "        element.innerHTML = '';\n",
              "        dataTable['output_type'] = 'display_data';\n",
              "        await google.colab.output.renderOutput(dataTable, element);\n",
              "        const docLink = document.createElement('div');\n",
              "        docLink.innerHTML = docLinkHtml;\n",
              "        element.appendChild(docLink);\n",
              "      }\n",
              "    </script>\n",
              "  </div>\n",
              "\n",
              "\n",
              "    <div id=\"df-0285b48a-21e7-467e-84df-bf8d48284844\">\n",
              "      <button class=\"colab-df-quickchart\" onclick=\"quickchart('df-0285b48a-21e7-467e-84df-bf8d48284844')\"\n",
              "                title=\"Suggest charts\"\n",
              "                style=\"display:none;\">\n",
              "\n",
              "<svg xmlns=\"http://www.w3.org/2000/svg\" height=\"24px\"viewBox=\"0 0 24 24\"\n",
              "     width=\"24px\">\n",
              "    <g>\n",
              "        <path d=\"M19 3H5c-1.1 0-2 .9-2 2v14c0 1.1.9 2 2 2h14c1.1 0 2-.9 2-2V5c0-1.1-.9-2-2-2zM9 17H7v-7h2v7zm4 0h-2V7h2v10zm4 0h-2v-4h2v4z\"/>\n",
              "    </g>\n",
              "</svg>\n",
              "      </button>\n",
              "\n",
              "<style>\n",
              "  .colab-df-quickchart {\n",
              "      --bg-color: #E8F0FE;\n",
              "      --fill-color: #1967D2;\n",
              "      --hover-bg-color: #E2EBFA;\n",
              "      --hover-fill-color: #174EA6;\n",
              "      --disabled-fill-color: #AAA;\n",
              "      --disabled-bg-color: #DDD;\n",
              "  }\n",
              "\n",
              "  [theme=dark] .colab-df-quickchart {\n",
              "      --bg-color: #3B4455;\n",
              "      --fill-color: #D2E3FC;\n",
              "      --hover-bg-color: #434B5C;\n",
              "      --hover-fill-color: #FFFFFF;\n",
              "      --disabled-bg-color: #3B4455;\n",
              "      --disabled-fill-color: #666;\n",
              "  }\n",
              "\n",
              "  .colab-df-quickchart {\n",
              "    background-color: var(--bg-color);\n",
              "    border: none;\n",
              "    border-radius: 50%;\n",
              "    cursor: pointer;\n",
              "    display: none;\n",
              "    fill: var(--fill-color);\n",
              "    height: 32px;\n",
              "    padding: 0;\n",
              "    width: 32px;\n",
              "  }\n",
              "\n",
              "  .colab-df-quickchart:hover {\n",
              "    background-color: var(--hover-bg-color);\n",
              "    box-shadow: 0 1px 2px rgba(60, 64, 67, 0.3), 0 1px 3px 1px rgba(60, 64, 67, 0.15);\n",
              "    fill: var(--button-hover-fill-color);\n",
              "  }\n",
              "\n",
              "  .colab-df-quickchart-complete:disabled,\n",
              "  .colab-df-quickchart-complete:disabled:hover {\n",
              "    background-color: var(--disabled-bg-color);\n",
              "    fill: var(--disabled-fill-color);\n",
              "    box-shadow: none;\n",
              "  }\n",
              "\n",
              "  .colab-df-spinner {\n",
              "    border: 2px solid var(--fill-color);\n",
              "    border-color: transparent;\n",
              "    border-bottom-color: var(--fill-color);\n",
              "    animation:\n",
              "      spin 1s steps(1) infinite;\n",
              "  }\n",
              "\n",
              "  @keyframes spin {\n",
              "    0% {\n",
              "      border-color: transparent;\n",
              "      border-bottom-color: var(--fill-color);\n",
              "      border-left-color: var(--fill-color);\n",
              "    }\n",
              "    20% {\n",
              "      border-color: transparent;\n",
              "      border-left-color: var(--fill-color);\n",
              "      border-top-color: var(--fill-color);\n",
              "    }\n",
              "    30% {\n",
              "      border-color: transparent;\n",
              "      border-left-color: var(--fill-color);\n",
              "      border-top-color: var(--fill-color);\n",
              "      border-right-color: var(--fill-color);\n",
              "    }\n",
              "    40% {\n",
              "      border-color: transparent;\n",
              "      border-right-color: var(--fill-color);\n",
              "      border-top-color: var(--fill-color);\n",
              "    }\n",
              "    60% {\n",
              "      border-color: transparent;\n",
              "      border-right-color: var(--fill-color);\n",
              "    }\n",
              "    80% {\n",
              "      border-color: transparent;\n",
              "      border-right-color: var(--fill-color);\n",
              "      border-bottom-color: var(--fill-color);\n",
              "    }\n",
              "    90% {\n",
              "      border-color: transparent;\n",
              "      border-bottom-color: var(--fill-color);\n",
              "    }\n",
              "  }\n",
              "</style>\n",
              "\n",
              "      <script>\n",
              "        async function quickchart(key) {\n",
              "          const quickchartButtonEl =\n",
              "            document.querySelector('#' + key + ' button');\n",
              "          quickchartButtonEl.disabled = true;  // To prevent multiple clicks.\n",
              "          quickchartButtonEl.classList.add('colab-df-spinner');\n",
              "          try {\n",
              "            const charts = await google.colab.kernel.invokeFunction(\n",
              "                'suggestCharts', [key], {});\n",
              "          } catch (error) {\n",
              "            console.error('Error during call to suggestCharts:', error);\n",
              "          }\n",
              "          quickchartButtonEl.classList.remove('colab-df-spinner');\n",
              "          quickchartButtonEl.classList.add('colab-df-quickchart-complete');\n",
              "        }\n",
              "        (() => {\n",
              "          let quickchartButtonEl =\n",
              "            document.querySelector('#df-0285b48a-21e7-467e-84df-bf8d48284844 button');\n",
              "          quickchartButtonEl.style.display =\n",
              "            google.colab.kernel.accessAllowed ? 'block' : 'none';\n",
              "        })();\n",
              "      </script>\n",
              "    </div>\n",
              "\n",
              "  <div id=\"id_46bdd9d7-33d0-4e7f-8654-4a54f23e2dac\">\n",
              "    <style>\n",
              "      .colab-df-generate {\n",
              "        background-color: #E8F0FE;\n",
              "        border: none;\n",
              "        border-radius: 50%;\n",
              "        cursor: pointer;\n",
              "        display: none;\n",
              "        fill: #1967D2;\n",
              "        height: 32px;\n",
              "        padding: 0 0 0 0;\n",
              "        width: 32px;\n",
              "      }\n",
              "\n",
              "      .colab-df-generate:hover {\n",
              "        background-color: #E2EBFA;\n",
              "        box-shadow: 0px 1px 2px rgba(60, 64, 67, 0.3), 0px 1px 3px 1px rgba(60, 64, 67, 0.15);\n",
              "        fill: #174EA6;\n",
              "      }\n",
              "\n",
              "      [theme=dark] .colab-df-generate {\n",
              "        background-color: #3B4455;\n",
              "        fill: #D2E3FC;\n",
              "      }\n",
              "\n",
              "      [theme=dark] .colab-df-generate:hover {\n",
              "        background-color: #434B5C;\n",
              "        box-shadow: 0px 1px 3px 1px rgba(0, 0, 0, 0.15);\n",
              "        filter: drop-shadow(0px 1px 2px rgba(0, 0, 0, 0.3));\n",
              "        fill: #FFFFFF;\n",
              "      }\n",
              "    </style>\n",
              "    <button class=\"colab-df-generate\" onclick=\"generateWithVariable('df_sampled')\"\n",
              "            title=\"Generate code using this dataframe.\"\n",
              "            style=\"display:none;\">\n",
              "\n",
              "  <svg xmlns=\"http://www.w3.org/2000/svg\" height=\"24px\"viewBox=\"0 0 24 24\"\n",
              "       width=\"24px\">\n",
              "    <path d=\"M7,19H8.4L18.45,9,17,7.55,7,17.6ZM5,21V16.75L18.45,3.32a2,2,0,0,1,2.83,0l1.4,1.43a1.91,1.91,0,0,1,.58,1.4,1.91,1.91,0,0,1-.58,1.4L9.25,21ZM18.45,9,17,7.55Zm-12,3A5.31,5.31,0,0,0,4.9,8.1,5.31,5.31,0,0,0,1,6.5,5.31,5.31,0,0,0,4.9,4.9,5.31,5.31,0,0,0,6.5,1,5.31,5.31,0,0,0,8.1,4.9,5.31,5.31,0,0,0,12,6.5,5.46,5.46,0,0,0,6.5,12Z\"/>\n",
              "  </svg>\n",
              "    </button>\n",
              "    <script>\n",
              "      (() => {\n",
              "      const buttonEl =\n",
              "        document.querySelector('#id_46bdd9d7-33d0-4e7f-8654-4a54f23e2dac button.colab-df-generate');\n",
              "      buttonEl.style.display =\n",
              "        google.colab.kernel.accessAllowed ? 'block' : 'none';\n",
              "\n",
              "      buttonEl.onclick = () => {\n",
              "        google.colab.notebook.generateWithVariable('df_sampled');\n",
              "      }\n",
              "      })();\n",
              "    </script>\n",
              "  </div>\n",
              "\n",
              "    </div>\n",
              "  </div>\n"
            ],
            "application/vnd.google.colaboratory.intrinsic+json": {
              "type": "dataframe",
              "variable_name": "df_sampled",
              "summary": "{\n  \"name\": \"df_sampled\",\n  \"rows\": 350,\n  \"fields\": [\n    {\n      \"column\": \"eos\",\n      \"properties\": {\n        \"dtype\": \"number\",\n        \"std\": 51,\n        \"min\": 374,\n        \"max\": 534,\n        \"num_unique_values\": 11,\n        \"samples\": [\n          502,\n          518,\n          438\n        ],\n        \"semantic_type\": \"\",\n        \"description\": \"\"\n      }\n    },\n    {\n      \"column\": \"los\",\n      \"properties\": {\n        \"dtype\": \"number\",\n        \"std\": 44,\n        \"min\": 45,\n        \"max\": 205,\n        \"num_unique_values\": 17,\n        \"samples\": [\n          80,\n          112,\n          77\n        ],\n        \"semantic_type\": \"\",\n        \"description\": \"\"\n      }\n    },\n    {\n      \"column\": \"sos\",\n      \"properties\": {\n        \"dtype\": \"number\",\n        \"std\": 38,\n        \"min\": 329,\n        \"max\": 470,\n        \"num_unique_values\": 10,\n        \"samples\": [\n          422,\n          454,\n          390\n        ],\n        \"semantic_type\": \"\",\n        \"description\": \"\"\n      }\n    },\n    {\n      \"column\": \"year\",\n      \"properties\": {\n        \"dtype\": \"number\",\n        \"std\": 3,\n        \"min\": 2011,\n        \"max\": 2023,\n        \"num_unique_values\": 13,\n        \"samples\": [\n          2022,\n          2020,\n          2011\n        ],\n        \"semantic_type\": \"\",\n        \"description\": \"\"\n      }\n    }\n  ]\n}"
            }
          },
          "metadata": {}
        }
      ],
      "source": [
        "# Define the points of interest\n",
        "points_of_interest_coords = [\n",
        "    (-71.90502839, 18.56607764), (-71.80967447, 19.87426945),\n",
        "    (-71.7772863, 19.76869857), (-71.70551415, 19.81215553),\n",
        "    (-71.71205905, 19.75066363), (-71.70974066, 19.64735523),\n",
        "    (-71.69786997, 19.56063244), (-71.72601052, 18.44647877),\n",
        "    (-71.70563311, 18.04772915), (-71.68390098, 17.99036702),\n",
        "    (-71.59541819, 19.90095128), (-71.62189193, 19.84243021),\n",
        "    (-71.62601047, 19.7464788), (-71.62601048, 19.6464788),\n",
        "    (-71.62601048, 19.54647879), (-71.62108122, 17.94784064),\n",
        "    (-71.6099818, 17.84849765), (-71.62534108, 17.77847873),\n",
        "    (-71.52601046, 19.7464788), (-71.52601046, 19.6464788),\n",
        "    (-71.52601046, 19.5464788), (-71.52601047, 18.94647878),\n",
        "    (-71.52601048, 18.44647877), (-71.52601049, 17.94647875),\n",
        "    (-71.52601049, 17.84647875), (-71.51397875, 17.76533174),\n",
        "    (-71.50682976, 17.618972), (-71.5169478, 17.57055423),\n",
        "    (-71.47054963, 19.89890701), (-71.42601044, 19.7464788),\n",
        "    (-71.42601044, 19.6464788), (-71.42601044, 19.5464788),\n",
        "    (-71.42601046, 18.44647877), (-71.42601047, 17.84647875),\n",
        "    (-71.42601047, 17.74647875), (-71.42520162, 17.66327899),\n",
        "    (-71.47342941, 17.58175772), (-71.32601042, 19.6464788),\n",
        "    (-71.32601043, 18.84647878), (-71.32601044, 18.44647877),\n",
        "    (-71.32601044, 18.34647877), (-71.33150548, 17.85200632),\n",
        "    (-71.36099169, 17.75748045), (-71.37326129, 17.6864501),\n",
        "    (-71.2260104, 19.6464788), (-71.22601042, 18.74647878),\n",
        "    (-71.22601042, 18.44647877), (-71.22601042, 18.34647877),\n",
        "    (-71.26281283, 17.88268075), (-71.0785079, 19.89909261),\n",
        "    (-71.12601038, 19.6464788), (-71.13607013, 18.24473391),\n",
        "    (-71.02601036, 19.8464788), (-71.02601036, 19.5464788),\n",
        "    (-70.92601035, 19.5464788), (-70.82601034, 18.44647877),\n",
        "    (-70.83063582, 18.36633912), (-70.72601031, 19.4464788),\n",
        "    (-70.62996269, 19.73349598), (-70.62601029, 19.4464788),\n",
        "    (-70.57893981, 18.33042794), (-70.58285677, 18.28210457),\n",
        "    (-70.52601027, 19.3464788), (-70.52601027, 19.2464788),\n",
        "    (-70.50837496, 18.19568336), (-70.42601025, 19.3464788),\n",
        "    (-70.42601025, 19.2464788), (-70.42601026, 19.14647879),\n",
        "    (-70.43029089, 18.25929367), (-70.37063081, 19.70434239),\n",
        "    (-70.32601023, 19.3464788), (-70.32601024, 19.2464788),\n",
        "    (-70.32601024, 19.14647879), (-70.32666422, 18.26339747),\n",
        "    (-70.22601022, 19.2464788), (-70.22601022, 19.1464788),\n",
        "    (-70.22578226, 18.26368043), (-70.1260102, 19.2464788),\n",
        "    (-70.1260102, 19.1464788), (-70.15081115, 18.27003449),\n",
        "    (-70.02601, 18.5651)\n",
        "]\n",
        "\n",
        "# Create an Earth Engine FeatureCollection from the list of points\n",
        "points_of_interest = ee.FeatureCollection([ee.Feature(ee.Geometry.Point(coords)) for coords in points_of_interest_coords])\n",
        "\n",
        "\n",
        "# Function to sample the season image at the points\n",
        "def sample_season_image(image):\n",
        "  sampled_collection = image.sampleRegions(**{\n",
        "      'collection': points_of_interest,\n",
        "      'scale': 1000, # Use appropriate scale for MODIS data\n",
        "      'geometries': True\n",
        "  })\n",
        "\n",
        "  # Map over the sampled features to add the year property\n",
        "  def add_year_to_feature(feature):\n",
        "    return feature.set('year', image.get('year'))\n",
        "\n",
        "  return sampled_collection.map(add_year_to_feature)\n",
        "\n",
        "\n",
        "# Sample the season collection at the points of interest\n",
        "# Flatten the collection of collections into a single collection of features\n",
        "sampled_season_data = season_collection.map(sample_season_image).flatten()\n",
        "\n",
        "# Get the sampled data as a list of features\n",
        "sampled_data_list = sampled_season_data.getInfo()['features']\n",
        "\n",
        "# Convert the list of features to a pandas DataFrame for easier viewing\n",
        "import pandas as pd\n",
        "df_sampled = pd.DataFrame([feature['properties'] for feature in sampled_data_list])\n",
        "\n",
        "# Display the sampled data\n",
        "display(df_sampled)"
      ]
    }
  ],
  "metadata": {
    "colab": {
      "provenance": [],
      "toc_visible": true,
      "include_colab_link": true
    },
    "kernelspec": {
      "display_name": "base",
      "language": "python",
      "name": "python3"
    },
    "language_info": {
      "codemirror_mode": {
        "name": "ipython",
        "version": 3
      },
      "file_extension": ".py",
      "mimetype": "text/x-python",
      "name": "python",
      "nbconvert_exporter": "python",
      "pygments_lexer": "ipython3",
      "version": "3.12.7"
    }
  },
  "nbformat": 4,
  "nbformat_minor": 0
}